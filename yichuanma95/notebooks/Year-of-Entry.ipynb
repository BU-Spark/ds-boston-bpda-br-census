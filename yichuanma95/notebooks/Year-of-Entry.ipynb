{
 "cells": [
  {
   "cell_type": "markdown",
   "id": "440deac7-ab08-4f7f-b587-f02cd0ee4237",
   "metadata": {},
   "source": [
    "Yichuan Philip Ma\n",
    "\n",
    "CS506 Project\n",
    "\n",
    "BPDA Brazilian Census Team 2\n",
    "\n",
    "Visualizations for Brazilians in Massachusetts by Year of Entry, compared to the entire Brazilian immigrant population in the US as a whole"
   ]
  },
  {
   "cell_type": "code",
   "execution_count": 34,
   "id": "ad95f45c-a2b7-4e0d-a92c-773335674451",
   "metadata": {},
   "outputs": [],
   "source": [
    "import pandas as pd\n",
    "import numpy as np\n",
    "import matplotlib.pyplot as plt\n",
    "from extract_data import extract_data"
   ]
  },
  {
   "cell_type": "code",
   "execution_count": 2,
   "id": "80fe000d-95e5-4dea-8181-26f6a1c13783",
   "metadata": {},
   "outputs": [],
   "source": [
    "df = pd.read_csv(\"../data/Brazilian Population and Small Business Owners.csv\")"
   ]
  },
  {
   "cell_type": "code",
   "execution_count": 3,
   "id": "1aaa2089-de6c-43a6-811f-05d427db7957",
   "metadata": {},
   "outputs": [],
   "source": [
    "year_of_entry = df[28:30]\n",
    "year_of_entry_mass = year_of_entry['MASSACHUSETTS']"
   ]
  },
  {
   "cell_type": "markdown",
   "id": "10745eac-50b1-422f-88cc-9fbb1c0f6815",
   "metadata": {},
   "source": [
    "The following pie chart shows how much of the Brazilian population in Massachusetts entered the US in the 21st century as of 2019:"
   ]
  },
  {
   "cell_type": "code",
   "execution_count": 32,
   "id": "96a966cd-32c4-41f9-8a2c-847630bd9941",
   "metadata": {},
   "outputs": [
    {
     "ename": "NameError",
     "evalue": "name 'year_of_entry_mass' is not defined",
     "output_type": "error",
     "traceback": [
      "\u001b[0;31m---------------------------------------------------------------------------\u001b[0m",
      "\u001b[0;31mNameError\u001b[0m                                 Traceback (most recent call last)",
      "\u001b[0;32m<ipython-input-32-2a9eeb41ed60>\u001b[0m in \u001b[0;36m<module>\u001b[0;34m\u001b[0m\n\u001b[1;32m      3\u001b[0m \u001b[0;34m\u001b[0m\u001b[0m\n\u001b[1;32m      4\u001b[0m \u001b[0mlabels\u001b[0m \u001b[0;34m=\u001b[0m \u001b[0;34m[\u001b[0m\u001b[0;34m'Entered US Before 2000'\u001b[0m\u001b[0;34m,\u001b[0m \u001b[0;34m'Entered US In 2000 or later'\u001b[0m\u001b[0;34m]\u001b[0m\u001b[0;34m\u001b[0m\u001b[0;34m\u001b[0m\u001b[0m\n\u001b[0;32m----> 5\u001b[0;31m \u001b[0myoe_MA\u001b[0m \u001b[0;34m=\u001b[0m \u001b[0mnp\u001b[0m\u001b[0;34m.\u001b[0m\u001b[0marray\u001b[0m\u001b[0;34m(\u001b[0m\u001b[0myear_of_entry_mass\u001b[0m\u001b[0;34m)\u001b[0m\u001b[0;34m\u001b[0m\u001b[0;34m\u001b[0m\u001b[0m\n\u001b[0m\u001b[1;32m      6\u001b[0m \u001b[0;34m\u001b[0m\u001b[0m\n\u001b[1;32m      7\u001b[0m \u001b[0mplt\u001b[0m\u001b[0;34m.\u001b[0m\u001b[0mpie\u001b[0m\u001b[0;34m(\u001b[0m\u001b[0myoe_MA\u001b[0m\u001b[0;34m,\u001b[0m \u001b[0mlabels\u001b[0m\u001b[0;34m=\u001b[0m\u001b[0mlabels\u001b[0m\u001b[0;34m)\u001b[0m\u001b[0;34m\u001b[0m\u001b[0;34m\u001b[0m\u001b[0m\n",
      "\u001b[0;31mNameError\u001b[0m: name 'year_of_entry_mass' is not defined"
     ]
    }
   ],
   "source": [
    "labels = ['Entered US Before 2000', 'Entered US In 2000 or later']\n",
    "yoe_MA = np.array(year_of_entry_mass)\n",
    "\n",
    "plt.pie(yoe_MA, labels=labels)\n",
    "plt.savefig('YearOfEntry/BR_YOE_Mass_2019.png')\n",
    "plt.show()"
   ]
  },
  {
   "cell_type": "code",
   "execution_count": 5,
   "id": "8655d336-9004-4b29-aabe-55f4acaa2f3e",
   "metadata": {
    "tags": []
   },
   "outputs": [],
   "source": [
    "yoe_national = year_of_entry.T.iloc[2:]\n",
    "yoe_national = yoe_national.dropna()"
   ]
  },
  {
   "cell_type": "markdown",
   "id": "36067342-4849-41c4-8593-d5580372eb10",
   "metadata": {},
   "source": [
    "The following pie chart shows how much of the Brazilian population across the US entered in the 21st century as of 2019:"
   ]
  },
  {
   "cell_type": "code",
   "execution_count": 6,
   "id": "74aaca13-5907-493c-ad7b-68e8283a05ec",
   "metadata": {},
   "outputs": [
    {
     "data": {
      "image/png": "[encoded data removed]",
      "text/plain": [
       "<Figure size 432x288 with 1 Axes>"
      ]
     },
     "metadata": {},
     "output_type": "display_data"
    }
   ],
   "source": [
    "yoe_national = np.array([sum(yoe_national.iloc[:,0]), sum(yoe_national.iloc[:,1])])\n",
    "plt.pie(yoe_national, labels=labels)\n",
    "plt.savefig('YearOfEntry/BR_YOE_National_2019.png')\n",
    "plt.show()"
   ]
  },
  {
   "cell_type": "markdown",
   "id": "86dc000c-d8b1-4290-93d6-9227b611de73",
   "metadata": {},
   "source": [
    "According to these pie charts, the Brazilian population in Massachusetts has a larger share arriving in the US in the 21st century than the nationwide average as of 2019."
   ]
  },
  {
   "cell_type": "markdown",
   "id": "5df344f5",
   "metadata": {},
   "source": [
    "### Data Extraction and Visualizations for Years 2012-2019"
   ]
  },
  {
   "cell_type": "markdown",
   "id": "a6f40892",
   "metadata": {},
   "source": [
    "MA state code is 25.\n",
    "\n",
    "Year of Entry data are in rows 27-28 for each year."
   ]
  },
  {
   "cell_type": "markdown",
   "id": "4bbc40c2",
   "metadata": {},
   "source": [
    "#### Data Extraction"
   ]
  },
  {
   "cell_type": "code",
   "execution_count": 3,
   "id": "a8c72493",
   "metadata": {},
   "outputs": [],
   "source": [
    "yoe = extract_data(27, 28)\n",
    "yoe.to_csv(\"YearOfEntry/Year Of Entry 2012-2019.csv\")"
   ]
  },
  {
   "cell_type": "markdown",
   "id": "84970e68",
   "metadata": {},
   "source": [
    "#### Visualizations"
   ]
  },
  {
   "cell_type": "code",
   "execution_count": 55,
   "id": "7c665069",
   "metadata": {},
   "outputs": [],
   "source": [
    "yoe_MA_all = []\n",
    "yoe_national_all = []\n",
    "years = list(range(2012, 2019+1))\n",
    "for year in years:\n",
    "    yoe_year = yoe[yoe['Year'] == year]\n",
    "    yoe_MA_all.append([year, yoe_year[25].iloc[0], yoe_year[25].iloc[1]])\n",
    "    yoe_national_all.append([year, sum(yoe_year.iloc[0,3:]), sum(yoe_year.iloc[1,3:])])"
   ]
  },
  {
   "cell_type": "markdown",
   "id": "737ab4d9",
   "metadata": {},
   "source": [
    "The following stacked bar chart shows how the share of the Brazilian population in Massachusetts that entered the US in the 21st century has changed between 2012-2019."
   ]
  },
  {
   "cell_type": "code",
   "execution_count": 56,
   "id": "9808217d",
   "metadata": {},
   "outputs": [
    {
     "data": {
      "image/png": "[encoded data removed]",
      "text/plain": [
       "<Figure size 432x288 with 1 Axes>"
      ]
     },
     "metadata": {
      "needs_background": "light"
     },
     "output_type": "display_data"
    }
   ],
   "source": [
    "yoe_MA_all = np.array(yoe_MA_all)\n",
    "fig, ax = plt.subplots()\n",
    "ax.bar(years, yoe_MA_all[:,1], label='Entered US Before 2000')\n",
    "ax.bar(years, yoe_MA_all[:,2], label='Entered US in 2000 or later', bottom=yoe_MA_all[:,1])\n",
    "ax.set_xlabel('Year')\n",
    "ax.set_title('Brazilians in MA by Year of Entry over the years')\n",
    "ax.legend()\n",
    "plt.savefig(\"YearOfEntry/BR_YOE_Mass_since2012.png\")\n",
    "plt.show()"
   ]
  },
  {
   "cell_type": "markdown",
   "id": "65181e7f",
   "metadata": {},
   "source": [
    "The following stacked bar chart shows how the share of the Brazilian population nationwide that entered the US in the 21st century or later has changed between 2012-2019."
   ]
  },
  {
   "cell_type": "code",
   "execution_count": 59,
   "id": "86d0c945",
   "metadata": {},
   "outputs": [
    {
     "data": {
      "image/png": "[encoded data removed]",
      "text/plain": [
       "<Figure size 432x288 with 1 Axes>"
      ]
     },
     "metadata": {
      "needs_background": "light"
     },
     "output_type": "display_data"
    }
   ],
   "source": [
    "yoe_national_all = np.array(yoe_national_all)\n",
    "fig, ax = plt.subplots()\n",
    "ax.bar(years, yoe_national_all[:,1], label='Entered US Before 2000')\n",
    "ax.bar(years, yoe_national_all[:,2], label='Entered US in 2000 or later', bottom=yoe_national_all[:,1])\n",
    "ax.set_xlabel('Year')\n",
    "ax.set_title('Brazilians in the US by Year of Entry over the years')\n",
    "ax.legend()\n",
    "plt.savefig(\"YearOfEntry/BR_YOE_national_since2012.png\")\n",
    "plt.show()"
   ]
  },
  {
   "cell_type": "code",
   "execution_count": 60,
   "id": "a714c0a2",
   "metadata": {},
   "outputs": [
    {
     "data": {
      "text/plain": [
       "array([[ 2012., 22922., 32187.],\n",
       "       [ 2013., 23604., 38182.],\n",
       "       [ 2014., 19441., 38286.],\n",
       "       [ 2015., 22246., 38773.],\n",
       "       [ 2016., 26332., 43222.],\n",
       "       [ 2017., 24855., 55898.],\n",
       "       [ 2018., 21710., 60190.],\n",
       "       [ 2019., 17770., 75938.]])"
      ]
     },
     "execution_count": 60,
     "metadata": {},
     "output_type": "execute_result"
    }
   ],
   "source": [
    "yoe_MA_all"
   ]
  },
  {
   "cell_type": "code",
   "execution_count": null,
   "id": "9f2e985c",
   "metadata": {},
   "outputs": [],
   "source": []
  }
 ],
 "metadata": {
  "kernelspec": {
   "display_name": "Python 3",
   "language": "python",
   "name": "python3"
  },
  "language_info": {
   "codemirror_mode": {
    "name": "ipython",
    "version": 3
   },
   "file_extension": ".py",
   "mimetype": "text/x-python",
   "name": "python",
   "nbconvert_exporter": "python",
   "pygments_lexer": "ipython3",
   "version": "3.8.8"
  }
 },
 "nbformat": 4,
 "nbformat_minor": 5
}

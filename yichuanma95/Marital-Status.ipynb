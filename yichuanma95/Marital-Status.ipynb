{
 "cells": [
  {
   "cell_type": "markdown",
   "id": "c61d43a1",
   "metadata": {},
   "source": [
    "Yichuan Philip Ma\n",
    "\n",
    "CS506 Project\n",
    "\n",
    "BPDA Brazilian Census Team 2\n",
    "\n",
    "Visualizations for Brazilians by Marital Status"
   ]
  },
  {
   "cell_type": "code",
   "execution_count": 1,
   "id": "14221262",
   "metadata": {},
   "outputs": [],
   "source": [
    "import pandas as pd\n",
    "import numpy as np\n",
    "import matplotlib.pyplot as plt\n",
    "from extract_data import extract_data"
   ]
  },
  {
   "cell_type": "code",
   "execution_count": 46,
   "id": "0e137498",
   "metadata": {},
   "outputs": [],
   "source": [
    "import os\n",
    "directory = 'MaritalStatus'\n",
    "if not os.path.exists(directory):\n",
    "    os.makedirs(directory)"
   ]
  },
  {
   "cell_type": "markdown",
   "id": "76e17c82",
   "metadata": {},
   "source": [
    "MA state code is 25.\n",
    "\n",
    "Marital Status data is in rows 20-24 for each year."
   ]
  },
  {
   "cell_type": "code",
   "execution_count": 9,
   "id": "c444fc91",
   "metadata": {},
   "outputs": [],
   "source": [
    "start = 20\n",
    "end = 24\n",
    "ms = extract_data(start, end)\n",
    "ms.to_csv(f\"{directory}/Marital Status 2012-2019.csv\")"
   ]
  },
  {
   "cell_type": "code",
   "execution_count": 50,
   "id": "df1c6819",
   "metadata": {},
   "outputs": [],
   "source": [
    "ms_MA_all = []\n",
    "ms_national_all = []\n",
    "years = list(range(2012, 2019+1))\n",
    "labels = list(ms['State Code'].drop_duplicates())\n",
    "for year in years:\n",
    "    ms_year = ms[ms['Year'] == year]\n",
    "    ms_MA_year = [year]\n",
    "    ms_national_year = [year]\n",
    "    for i in range(end - start + 1):\n",
    "        ms_MA_year.append(ms_year[25].iloc[i])\n",
    "        ms_national_year.append(sum(ms_year.iloc[i,3:]))\n",
    "    ms_MA_all.append(ms_MA_year)\n",
    "    ms_national_all.append(ms_national_year)"
   ]
  },
  {
   "cell_type": "markdown",
   "id": "258deee7",
   "metadata": {},
   "source": [
    "The following stacked bar chart shows the change in marital status of Brazilians in Massachusetts between 2012-2019."
   ]
  },
  {
   "cell_type": "code",
   "execution_count": 47,
   "id": "48317e4c",
   "metadata": {},
   "outputs": [
    {
     "data": {
      "image/png": "[encoded data removed]",
      "text/plain": [
       "<Figure size 720x504 with 1 Axes>"
      ]
     },
     "metadata": {
      "needs_background": "light"
     },
     "output_type": "display_data"
    }
   ],
   "source": [
    "ms_MA_all = np.array(ms_MA_all)\n",
    "fig, ax = plt.subplots(figsize = (10, 7))\n",
    "bottom = np.zeros(len(years))\n",
    "for i in range(end - start + 1):\n",
    "    values = ms_MA_all[:,i+1]\n",
    "    ax.bar(years, values, label=labels[i], bottom=bottom)\n",
    "    bottom += values\n",
    "ax.set_xlabel('Year')\n",
    "ax.set_title('Brazilians in MA by Marital Status')\n",
    "ax.legend()\n",
    "plt.savefig(f\"{directory}/BR_MS_Mass_since2012.png\")\n",
    "plt.show()"
   ]
  },
  {
   "cell_type": "code",
   "execution_count": 43,
   "id": "8d0daad2",
   "metadata": {},
   "outputs": [
    {
     "data": {
      "text/plain": [
       "array([[ 2012., 28291.,   921.,  6458.,  1583., 17856.],\n",
       "       [ 2013., 35256.,   701.,  6395.,  1911., 17523.],\n",
       "       [ 2014., 27006.,  1243.,  5344.,  3737., 20397.],\n",
       "       [ 2015., 37047.,   725.,  7287.,  2002., 13958.],\n",
       "       [ 2016., 40274.,   946.,  8173.,  2896., 17265.],\n",
       "       [ 2017., 41881.,  2071.,  7534.,  1554., 27713.],\n",
       "       [ 2018., 46957.,  1164.,  6793.,  2325., 24661.],\n",
       "       [ 2019., 52407.,   881.,  6363.,  2073., 31984.]])"
      ]
     },
     "execution_count": 43,
     "metadata": {},
     "output_type": "execute_result"
    }
   ],
   "source": [
    "ms_national_all = np.array(ms_national_all)\n",
    "fig, ax = plt.subplots(figsize = (10, 7))\n",
    "bottom = np.zeros(len(years))\n",
    "for i in range(end - start + 1):\n",
    "    values = ms_national_all[:,i+1]\n",
    "    ax.bar(years, values, label=labels[i], bottom=bottom)\n",
    "    bottom += values\n",
    "ax.set_xlabel('Year')\n",
    "ax.set_title('Brazilians nation by Marital Status')\n",
    "ax.legend()\n",
    "plt.savefig(f\"{directory}/BR_MS_Mass_since2012.png\")\n",
    "plt.show()"
   ]
  },
  {
   "cell_type": "code",
   "execution_count": null,
   "id": "820f44f5",
   "metadata": {},
   "outputs": [],
   "source": []
  }
 ],
 "metadata": {
  "kernelspec": {
   "display_name": "Python 3",
   "language": "python",
   "name": "python3"
  },
  "language_info": {
   "codemirror_mode": {
    "name": "ipython",
    "version": 3
   },
   "file_extension": ".py",
   "mimetype": "text/x-python",
   "name": "python",
   "nbconvert_exporter": "python",
   "pygments_lexer": "ipython3",
   "version": "3.8.8"
  }
 },
 "nbformat": 4,
 "nbformat_minor": 5
}

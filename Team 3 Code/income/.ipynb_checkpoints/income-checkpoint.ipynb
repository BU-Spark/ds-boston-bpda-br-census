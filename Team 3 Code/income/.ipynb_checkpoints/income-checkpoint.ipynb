{
 "cells": [
  {
   "cell_type": "code",
   "execution_count": 29,
   "metadata": {
    "pycharm": {
     "is_executing": true
    }
   },
   "outputs": [],
   "source": [
    "import pandas as pd\n",
    "import numpy as np\n",
    "\n",
    "def load_data(path: str):\n",
    "  years = list(range(2005, 2020))\n",
    "  year2index = { y : i for (i, y) in enumerate(years) }\n",
    "  data = [pd.read_excel(path, sheet_name=str(y)) for y in years]\n",
    "  return data, years, year2index\n",
    "\n",
    "data, years, year2index = load_data(\"../data/Brazilian Immigrants - modified.xlsx\")\n",
    "\n",
    "def load_state_dict(path: str):\n",
    "  data = pd.read_excel(path, sheet_name=\"State code\")\n",
    "  state_dict = dict()\n",
    "  for i in data.index:\n",
    "    abbrev = data[\"State Abbreviation\"][i].lower()\n",
    "    name = data[\"State Name\"][i].lower()\n",
    "    code = data[\"FIPS Code\"][i]\n",
    "\n",
    "    state_dict[code] = {\n",
    "      \"name\": name,\n",
    "      \"abbrev\": abbrev\n",
    "    }\n",
    "\n",
    "  return state_dict\n",
    "\n",
    "state_dict = load_state_dict(\"../data/Brazilian Immigrants.xlsx\")\n"
   ]
  },
  {
   "cell_type": "code",
   "execution_count": 30,
   "metadata": {
    "pycharm": {
     "name": "#%%\n"
    }
   },
   "outputs": [],
   "source": [
    "import numpy as np\n",
    "\n",
    "def query_by_attr_year(attr: str, year: int, t: bool = False):\n",
    "  df = data[year2index[year]]\n",
    "\n",
    "  if t:\n",
    "    row = df.loc[df.iloc[:, 0] == attr]\n",
    "  else:\n",
    "    row = df.loc[df.iloc[:, 1] == attr]\n",
    "  return row\n",
    "\n",
    "def query_by_attr_year_state(attr: str, year: int, state: int, t: bool = False):\n",
    "  row = query_by_attr_year(attr, year, t)\n",
    "  value = row[state].to_numpy() if state in row.columns else ([None] * len(row))\n",
    "  return value if t else value[0], row.iloc[:, 1].to_list()\n",
    "\n",
    "def query_attr_over_years_by_state(attr: str, state: int, t: bool = False):\n",
    "  values = []\n",
    "\n",
    "  for y in years:\n",
    "    value, attrNames = query_by_attr_year_state(attr, y, state, t)\n",
    "    values.append(value)\n",
    "\n",
    "  return np.asarray(values).T, attrNames"
   ]
  },
  {
   "cell_type": "code",
   "execution_count": 31,
   "metadata": {
    "pycharm": {
     "name": "#%%\n"
    }
   },
   "outputs": [],
   "source": [
    "from pyecharts.render import make_snapshot\n",
    "from typing import List, Optional\n",
    "import pyecharts.options as opts\n",
    "from pyecharts.charts import Grid, Line\n",
    "import os\n",
    "from snapshot_selenium import snapshot as driver\n",
    "\n",
    "def plot_attrs_over_years_of_states(\n",
    "  attr: str,\n",
    "  state: int,\n",
    "  save_name: Optional[str] = None\n",
    "):\n",
    "  values_by_state, attr_names = query_attr_over_years_by_state(attr, state, t=True)\n",
    "#   print(attr_names)\n",
    "  attr_names[0]='Median Personal Earnings'\n",
    "  attr_names[1]='Median Personal Earnings (excl 0 and neg)'\n",
    "\n",
    "  state_name = state_dict[state][\"name\"].title()\n",
    "\n",
    "  line = (\n",
    "    Line()\n",
    "    .add_xaxis(xaxis_data=[str(y) for y in years])\n",
    "    .set_global_opts(\n",
    "      title_opts=opts.TitleOpts(\n",
    "        title=f\"{attr} for {state_name}\"\n",
    "      ),\n",
    "      tooltip_opts=opts.TooltipOpts(trigger=\"axis\", axis_pointer_type=\"cross\"),\n",
    "      yaxis_opts=opts.AxisOpts(\n",
    "        type_=\"value\",\n",
    "        axistick_opts=opts.AxisTickOpts(is_show=True),\n",
    "        splitline_opts=opts.SplitLineOpts(is_show=True)\n",
    "      ),\n",
    "      xaxis_opts=opts.AxisOpts(type_=\"category\", boundary_gap=False),\n",
    "      datazoom_opts=opts.DataZoomOpts(\n",
    "        range_start=0,\n",
    "        range_end=100\n",
    "      ),\n",
    "      legend_opts=opts.LegendOpts(is_show=True, pos_top=40),\n",
    "    )\n",
    "  )\n",
    "\n",
    "  for (i, values) in enumerate(values_by_state):\n",
    "    line.add_yaxis(\n",
    "      series_name=attr_names[i],\n",
    "#       stack=\"Total\",\n",
    "      y_axis=values,\n",
    "#       areastyle_opts=opts.AreaStyleOpts(opacity=0.5),\n",
    "      label_opts=opts.LabelOpts(is_show=True)\n",
    "    )\n",
    "#   return line\n",
    "  grid = (\n",
    "    Grid(init_opts=opts.InitOpts(width=\"775px\", height=\"500px\"))\n",
    "      .add(line, grid_opts=opts.GridOpts(pos_top=75))\n",
    "  )\n",
    "\n",
    "  if save_name is not None:\n",
    "    grid.render(os.path.join(\"./html\", save_name + \".html\"))\n",
    "    make_snapshot(driver, grid.render(), save_name+\".png\")\n",
    "\n",
    "  return grid"
   ]
  },
  {
   "cell_type": "code",
   "execution_count": null,
   "metadata": {
    "pycharm": {
     "name": "#%%\n"
    }
   },
   "outputs": [],
   "source": []
  },
  {
   "cell_type": "code",
   "execution_count": null,
   "metadata": {
    "pycharm": {
     "name": "#%%\n"
    }
   },
   "outputs": [],
   "source": [
    "plot_attrs_over_years_of_states(\n",
    "  \"Median Personal Earnings\",\n",
    "  state=48,\n",
    "  save_name=\"texas\"\n",
    ").render_notebook()"
   ]
  },
  {
   "cell_type": "code",
   "execution_count": 32,
   "metadata": {
    "pycharm": {
     "name": "#%%\n"
    }
   },
   "outputs": [],
   "source": [
    "for state in state_dict.keys():\n",
    "  plot_attrs_over_years_of_states(\n",
    "    \"Median Personal Earnings\", \n",
    "    state=state,\n",
    "    save_name=state_dict[state][\"name\"]\n",
    "  )"
   ]
  },
  {
   "cell_type": "code",
   "execution_count": null,
   "metadata": {},
   "outputs": [],
   "source": []
  }
 ],
 "metadata": {
  "kernelspec": {
   "display_name": "Python 3 (ipykernel)",
   "language": "python",
   "name": "python3"
  },
  "language_info": {
   "codemirror_mode": {
    "name": "ipython",
    "version": 3
   },
   "file_extension": ".py",
   "mimetype": "text/x-python",
   "name": "python",
   "nbconvert_exporter": "python",
   "pygments_lexer": "ipython3",
   "version": "3.9.7"
  }
 },
 "nbformat": 4,
 "nbformat_minor": 1
}

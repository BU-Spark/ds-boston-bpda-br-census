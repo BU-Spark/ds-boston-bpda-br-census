{
 "cells": [
  {
   "cell_type": "code",
   "execution_count": 57,
   "metadata": {
    "collapsed": true
   },
   "outputs": [],
   "source": [
    "import numpy as np\n",
    "import pandas as pd"
   ]
  },
  {
   "cell_type": "code",
   "execution_count": 57,
   "outputs": [],
   "source": [],
   "metadata": {
    "collapsed": false,
    "pycharm": {
     "name": "#%%\n"
    }
   }
  },
  {
   "cell_type": "code",
   "execution_count": 58,
   "outputs": [],
   "source": [
    "xlsx=pd.ExcelFile(\"data/Brazilian Immigrants.xlsx\")\n",
    "df2005=pd.read_excel(xlsx,'2005')\n",
    "df2006=pd.read_excel(xlsx,'2006')\n",
    "df2007=pd.read_excel(xlsx,'2007')\n",
    "df2008=pd.read_excel(xlsx,'2008')\n",
    "df2009=pd.read_excel(xlsx,'2009')\n",
    "df2010=pd.read_excel(xlsx,'2010')\n",
    "df2011=pd.read_excel(xlsx,'2011')\n",
    "df2012=pd.read_excel(xlsx,'2012')\n",
    "df2013=pd.read_excel(xlsx,'2013')\n",
    "df2014=pd.read_excel(xlsx,'2014')\n",
    "df2015=pd.read_excel(xlsx,'2015')\n",
    "df2016=pd.read_excel(xlsx,'2016')\n",
    "df2017=pd.read_excel(xlsx,'2017')\n",
    "df2018=pd.read_excel(xlsx,'2018')\n",
    "df2019=pd.read_excel(xlsx,'2019')\n",
    "\n",
    "data_dict={2005:df2005,2006:df2006,2007:df2007,2008:df2008,2009:df2009,2010:df2010,2011:df2011,2012:df2012,2013:df2013,2014:df2014,2015:df2015,2016:df2016,2017:df2017,2018:df2018,2019:df2019}"
   ],
   "metadata": {
    "collapsed": false,
    "pycharm": {
     "name": "#%%\n"
    }
   }
  },
  {
   "cell_type": "code",
   "execution_count": 58,
   "outputs": [],
   "source": [],
   "metadata": {
    "collapsed": false,
    "pycharm": {
     "name": "#%%\n"
    }
   }
  },
  {
   "cell_type": "code",
   "execution_count": 59,
   "outputs": [
    {
     "data": {
      "text/plain": "  State Abbreviation  FIPS Code  State Name\n0                 AL        1.0     ALABAMA\n1                 AK        2.0      ALASKA\n2                 AZ        4.0     ARIZONA\n3                 AR        5.0    ARKANSAS\n4                 CA        6.0  CALIFORNIA",
      "text/html": "<div>\n<style scoped>\n    .dataframe tbody tr th:only-of-type {\n        vertical-align: middle;\n    }\n\n    .dataframe tbody tr th {\n        vertical-align: top;\n    }\n\n    .dataframe thead th {\n        text-align: right;\n    }\n</style>\n<table border=\"1\" class=\"dataframe\">\n  <thead>\n    <tr style=\"text-align: right;\">\n      <th></th>\n      <th>State Abbreviation</th>\n      <th>FIPS Code</th>\n      <th>State Name</th>\n    </tr>\n  </thead>\n  <tbody>\n    <tr>\n      <th>0</th>\n      <td>AL</td>\n      <td>1.0</td>\n      <td>ALABAMA</td>\n    </tr>\n    <tr>\n      <th>1</th>\n      <td>AK</td>\n      <td>2.0</td>\n      <td>ALASKA</td>\n    </tr>\n    <tr>\n      <th>2</th>\n      <td>AZ</td>\n      <td>4.0</td>\n      <td>ARIZONA</td>\n    </tr>\n    <tr>\n      <th>3</th>\n      <td>AR</td>\n      <td>5.0</td>\n      <td>ARKANSAS</td>\n    </tr>\n    <tr>\n      <th>4</th>\n      <td>CA</td>\n      <td>6.0</td>\n      <td>CALIFORNIA</td>\n    </tr>\n  </tbody>\n</table>\n</div>"
     },
     "execution_count": 59,
     "metadata": {},
     "output_type": "execute_result"
    }
   ],
   "source": [
    "# state_code=pd.read_excel(xlsx,'State code',index_col='FIPS Code')\n",
    "state_code=pd.read_excel(xlsx,'State code')\n",
    "state_code.head()"
   ],
   "metadata": {
    "collapsed": false,
    "pycharm": {
     "name": "#%%\n"
    }
   }
  },
  {
   "cell_type": "code",
   "execution_count": 60,
   "outputs": [
    {
     "name": "stdout",
     "output_type": "stream",
     "text": [
      "  State Abbreviation  FIPS Code State Name\n",
      "0                 AL        1.0    ALABAMA\n"
     ]
    }
   ],
   "source": [
    "print(state_code[state_code['FIPS Code']==1])"
   ],
   "metadata": {
    "collapsed": false,
    "pycharm": {
     "name": "#%%\n"
    }
   }
  },
  {
   "cell_type": "code",
   "execution_count": 61,
   "outputs": [
    {
     "data": {
      "text/plain": "         Type    State Code     1.0   2.0     4.0    5.0      6.0     8.0  \\\n0  Population    Population  2030.0  88.0  1288.0  861.0  25111.0  1339.0   \n1         Age    Age 0 to 4    78.0   0.0     0.0    0.0    305.0     0.0   \n2         Age  Age 05 to 09   172.0   0.0     0.0  116.0   1039.0    84.0   \n3         Age  Age 10 to 19   242.0   0.0     0.0    0.0   2920.0     0.0   \n4         Age  Age 20 to 24     0.0   0.0    67.0    0.0   1910.0     0.0   \n\n       9.0   10.0  ...   41.0    42.0    44.0    45.0    47.0    48.0    49.0  \\\n0  14021.0  296.0  ...  571.0  7019.0  1143.0  2339.0  1355.0  7921.0  2904.0   \n1      0.0    0.0  ...    0.0     0.0     0.0     0.0     0.0    20.0     0.0   \n2    333.0    0.0  ...    0.0   157.0     0.0     0.0     0.0   283.0   182.0   \n3   1309.0    0.0  ...    0.0   748.0     0.0   119.0     0.0   382.0   360.0   \n4   2153.0  104.0  ...  120.0   795.0    75.0   577.0     0.0   831.0   154.0   \n\n     51.0    53.0   55.0  \n0  6471.0  2505.0  804.0  \n1    87.0     0.0    0.0  \n2  1180.0     0.0   85.0  \n3   439.0   467.0  213.0  \n4   394.0    97.0    0.0  \n\n[5 rows x 47 columns]",
      "text/html": "<div>\n<style scoped>\n    .dataframe tbody tr th:only-of-type {\n        vertical-align: middle;\n    }\n\n    .dataframe tbody tr th {\n        vertical-align: top;\n    }\n\n    .dataframe thead th {\n        text-align: right;\n    }\n</style>\n<table border=\"1\" class=\"dataframe\">\n  <thead>\n    <tr style=\"text-align: right;\">\n      <th></th>\n      <th>Type</th>\n      <th>State Code</th>\n      <th>1.0</th>\n      <th>2.0</th>\n      <th>4.0</th>\n      <th>5.0</th>\n      <th>6.0</th>\n      <th>8.0</th>\n      <th>9.0</th>\n      <th>10.0</th>\n      <th>...</th>\n      <th>41.0</th>\n      <th>42.0</th>\n      <th>44.0</th>\n      <th>45.0</th>\n      <th>47.0</th>\n      <th>48.0</th>\n      <th>49.0</th>\n      <th>51.0</th>\n      <th>53.0</th>\n      <th>55.0</th>\n    </tr>\n  </thead>\n  <tbody>\n    <tr>\n      <th>0</th>\n      <td>Population</td>\n      <td>Population</td>\n      <td>2030.0</td>\n      <td>88.0</td>\n      <td>1288.0</td>\n      <td>861.0</td>\n      <td>25111.0</td>\n      <td>1339.0</td>\n      <td>14021.0</td>\n      <td>296.0</td>\n      <td>...</td>\n      <td>571.0</td>\n      <td>7019.0</td>\n      <td>1143.0</td>\n      <td>2339.0</td>\n      <td>1355.0</td>\n      <td>7921.0</td>\n      <td>2904.0</td>\n      <td>6471.0</td>\n      <td>2505.0</td>\n      <td>804.0</td>\n    </tr>\n    <tr>\n      <th>1</th>\n      <td>Age</td>\n      <td>Age 0 to 4</td>\n      <td>78.0</td>\n      <td>0.0</td>\n      <td>0.0</td>\n      <td>0.0</td>\n      <td>305.0</td>\n      <td>0.0</td>\n      <td>0.0</td>\n      <td>0.0</td>\n      <td>...</td>\n      <td>0.0</td>\n      <td>0.0</td>\n      <td>0.0</td>\n      <td>0.0</td>\n      <td>0.0</td>\n      <td>20.0</td>\n      <td>0.0</td>\n      <td>87.0</td>\n      <td>0.0</td>\n      <td>0.0</td>\n    </tr>\n    <tr>\n      <th>2</th>\n      <td>Age</td>\n      <td>Age 05 to 09</td>\n      <td>172.0</td>\n      <td>0.0</td>\n      <td>0.0</td>\n      <td>116.0</td>\n      <td>1039.0</td>\n      <td>84.0</td>\n      <td>333.0</td>\n      <td>0.0</td>\n      <td>...</td>\n      <td>0.0</td>\n      <td>157.0</td>\n      <td>0.0</td>\n      <td>0.0</td>\n      <td>0.0</td>\n      <td>283.0</td>\n      <td>182.0</td>\n      <td>1180.0</td>\n      <td>0.0</td>\n      <td>85.0</td>\n    </tr>\n    <tr>\n      <th>3</th>\n      <td>Age</td>\n      <td>Age 10 to 19</td>\n      <td>242.0</td>\n      <td>0.0</td>\n      <td>0.0</td>\n      <td>0.0</td>\n      <td>2920.0</td>\n      <td>0.0</td>\n      <td>1309.0</td>\n      <td>0.0</td>\n      <td>...</td>\n      <td>0.0</td>\n      <td>748.0</td>\n      <td>0.0</td>\n      <td>119.0</td>\n      <td>0.0</td>\n      <td>382.0</td>\n      <td>360.0</td>\n      <td>439.0</td>\n      <td>467.0</td>\n      <td>213.0</td>\n    </tr>\n    <tr>\n      <th>4</th>\n      <td>Age</td>\n      <td>Age 20 to 24</td>\n      <td>0.0</td>\n      <td>0.0</td>\n      <td>67.0</td>\n      <td>0.0</td>\n      <td>1910.0</td>\n      <td>0.0</td>\n      <td>2153.0</td>\n      <td>104.0</td>\n      <td>...</td>\n      <td>120.0</td>\n      <td>795.0</td>\n      <td>75.0</td>\n      <td>577.0</td>\n      <td>0.0</td>\n      <td>831.0</td>\n      <td>154.0</td>\n      <td>394.0</td>\n      <td>97.0</td>\n      <td>0.0</td>\n    </tr>\n  </tbody>\n</table>\n<p>5 rows × 47 columns</p>\n</div>"
     },
     "execution_count": 61,
     "metadata": {},
     "output_type": "execute_result"
    }
   ],
   "source": [
    "a=data_dict.get(2005)\n",
    "a.head()"
   ],
   "metadata": {
    "collapsed": false,
    "pycharm": {
     "name": "#%%\n"
    }
   }
  },
  {
   "cell_type": "code",
   "execution_count": 62,
   "outputs": [
    {
     "name": "stdout",
     "output_type": "stream",
     "text": [
      "{1.0: 'AL', 2.0: 'AK', 4.0: 'AZ', 5.0: 'AR', 6.0: 'CA', 8.0: 'CO', 9.0: 'CT', 10.0: 'DE', 11.0: 'DC', 12.0: 'FL', 13.0: 'GA', 15.0: 'HI', 16.0: 'ID', 17.0: 'IL', 18.0: 'IN', 19.0: 'IA', 20.0: 'KS', 21.0: 'KY', 22.0: 'LA', 23.0: 'ME', 24.0: 'MD', 25.0: 'MA', 26.0: 'MI', 27.0: 'MN', 28.0: 'MS', 29.0: 'MO', 30.0: 'MT', 31.0: 'NE', 32.0: 'NV', 33.0: 'NH', 34.0: 'NJ', 35.0: 'NM', 36.0: 'NY', 37.0: 'NC', 38.0: 'ND', 39.0: 'OH', 40.0: 'OK', 41.0: 'OR', 42.0: 'PA', 44.0: 'RI', 45.0: 'SC', 46.0: 'SD', 47.0: 'TN', 48.0: 'TX', 49.0: 'UT', 50.0: 'VT', 51.0: 'VA', 53.0: 'WA', 54.0: 'WV', 55.0: 'WI', 56.0: 'WY', 72.0: 'PR', 78.0: 'VI'}\n"
     ]
    }
   ],
   "source": [
    "column_name = pd.Series(state_code['State Abbreviation'].values, index=state_code['FIPS Code'])\n",
    "column_dict=column_name.to_dict()\n",
    "\n",
    "# print(column_name)\n",
    "\n",
    "print(column_dict)"
   ],
   "metadata": {
    "collapsed": false,
    "pycharm": {
     "name": "#%%\n"
    }
   }
  },
  {
   "cell_type": "code",
   "execution_count": 63,
   "outputs": [
    {
     "data": {
      "text/plain": "                        Type                                      class  \\\n0                 Population                                 Population   \n1                        Age                                 Age 0 to 4   \n2                        Age                               Age 05 to 09   \n3                        Age                               Age 10 to 19   \n4                        Age                               Age 20 to 24   \n..                       ...                                        ...   \n66            Poverty Status                  Individuals Below Poverty   \n67            Poverty Status                  Individuals Above Poverty   \n68            Poverty Status                             Not Determined   \n69  Median Personal Earnings                   Median Personal Earnings   \n70  Median Personal Earnings  Median Personal Earnings (excl 0 and neg)   \n\n         AL       AK       AZ       AR       CA       CO       CT      DE  \\\n0    2030.0     88.0   1288.0    861.0  25111.0   1339.0  14021.0   296.0   \n1      78.0      0.0      0.0      0.0    305.0      0.0      0.0     0.0   \n2     172.0      0.0      0.0    116.0   1039.0     84.0    333.0     0.0   \n3     242.0      0.0      0.0      0.0   2920.0      0.0   1309.0     0.0   \n4       0.0      0.0     67.0      0.0   1910.0      0.0   2153.0   104.0   \n..      ...      ...      ...      ...      ...      ...      ...     ...   \n66      0.0      0.0    419.0      0.0   3044.0    474.0   1768.0   104.0   \n67   2030.0     88.0    869.0    861.0  22067.0    865.0  12253.0   192.0   \n68      0.0      0.0      0.0      0.0      0.0      0.0      0.0     0.0   \n69  15000.0  50800.0  20000.0  50000.0  13000.0   8700.0  16000.0  5500.0   \n70  40000.0  50800.0  27000.0  50000.0  20960.0  15000.0  20000.0  7000.0   \n\n    ...       OR       PA       RI       SC       TN       TX       UT  \\\n0   ...    571.0   7019.0   1143.0   2339.0   1355.0   7921.0   2904.0   \n1   ...      0.0      0.0      0.0      0.0      0.0     20.0      0.0   \n2   ...      0.0    157.0      0.0      0.0      0.0    283.0    182.0   \n3   ...      0.0    748.0      0.0    119.0      0.0    382.0    360.0   \n4   ...    120.0    795.0     75.0    577.0      0.0    831.0    154.0   \n..  ...      ...      ...      ...      ...      ...      ...      ...   \n66  ...    200.0   1403.0      0.0    144.0      0.0    543.0     81.0   \n67  ...    371.0   5616.0   1143.0   2195.0   1355.0   7378.0   2823.0   \n68  ...      0.0      0.0      0.0      0.0      0.0      0.0      0.0   \n69  ...  19000.0  10400.0  24000.0  22000.0  33000.0  15000.0  13200.0   \n70  ...  19000.0  16000.0  24000.0  24000.0  33000.0  20000.0  18000.0   \n\n         VA       WA       WI  \n0    6471.0   2505.0    804.0  \n1      87.0      0.0      0.0  \n2    1180.0      0.0     85.0  \n3     439.0    467.0    213.0  \n4     394.0     97.0      0.0  \n..      ...      ...      ...  \n66    286.0    144.0     42.0  \n67   6185.0   2361.0    762.0  \n68      0.0      0.0      0.0  \n69  11100.0  16800.0      0.0  \n70  22700.0  24000.0  12000.0  \n\n[71 rows x 47 columns]",
      "text/html": "<div>\n<style scoped>\n    .dataframe tbody tr th:only-of-type {\n        vertical-align: middle;\n    }\n\n    .dataframe tbody tr th {\n        vertical-align: top;\n    }\n\n    .dataframe thead th {\n        text-align: right;\n    }\n</style>\n<table border=\"1\" class=\"dataframe\">\n  <thead>\n    <tr style=\"text-align: right;\">\n      <th></th>\n      <th>Type</th>\n      <th>class</th>\n      <th>AL</th>\n      <th>AK</th>\n      <th>AZ</th>\n      <th>AR</th>\n      <th>CA</th>\n      <th>CO</th>\n      <th>CT</th>\n      <th>DE</th>\n      <th>...</th>\n      <th>OR</th>\n      <th>PA</th>\n      <th>RI</th>\n      <th>SC</th>\n      <th>TN</th>\n      <th>TX</th>\n      <th>UT</th>\n      <th>VA</th>\n      <th>WA</th>\n      <th>WI</th>\n    </tr>\n  </thead>\n  <tbody>\n    <tr>\n      <th>0</th>\n      <td>Population</td>\n      <td>Population</td>\n      <td>2030.0</td>\n      <td>88.0</td>\n      <td>1288.0</td>\n      <td>861.0</td>\n      <td>25111.0</td>\n      <td>1339.0</td>\n      <td>14021.0</td>\n      <td>296.0</td>\n      <td>...</td>\n      <td>571.0</td>\n      <td>7019.0</td>\n      <td>1143.0</td>\n      <td>2339.0</td>\n      <td>1355.0</td>\n      <td>7921.0</td>\n      <td>2904.0</td>\n      <td>6471.0</td>\n      <td>2505.0</td>\n      <td>804.0</td>\n    </tr>\n    <tr>\n      <th>1</th>\n      <td>Age</td>\n      <td>Age 0 to 4</td>\n      <td>78.0</td>\n      <td>0.0</td>\n      <td>0.0</td>\n      <td>0.0</td>\n      <td>305.0</td>\n      <td>0.0</td>\n      <td>0.0</td>\n      <td>0.0</td>\n      <td>...</td>\n      <td>0.0</td>\n      <td>0.0</td>\n      <td>0.0</td>\n      <td>0.0</td>\n      <td>0.0</td>\n      <td>20.0</td>\n      <td>0.0</td>\n      <td>87.0</td>\n      <td>0.0</td>\n      <td>0.0</td>\n    </tr>\n    <tr>\n      <th>2</th>\n      <td>Age</td>\n      <td>Age 05 to 09</td>\n      <td>172.0</td>\n      <td>0.0</td>\n      <td>0.0</td>\n      <td>116.0</td>\n      <td>1039.0</td>\n      <td>84.0</td>\n      <td>333.0</td>\n      <td>0.0</td>\n      <td>...</td>\n      <td>0.0</td>\n      <td>157.0</td>\n      <td>0.0</td>\n      <td>0.0</td>\n      <td>0.0</td>\n      <td>283.0</td>\n      <td>182.0</td>\n      <td>1180.0</td>\n      <td>0.0</td>\n      <td>85.0</td>\n    </tr>\n    <tr>\n      <th>3</th>\n      <td>Age</td>\n      <td>Age 10 to 19</td>\n      <td>242.0</td>\n      <td>0.0</td>\n      <td>0.0</td>\n      <td>0.0</td>\n      <td>2920.0</td>\n      <td>0.0</td>\n      <td>1309.0</td>\n      <td>0.0</td>\n      <td>...</td>\n      <td>0.0</td>\n      <td>748.0</td>\n      <td>0.0</td>\n      <td>119.0</td>\n      <td>0.0</td>\n      <td>382.0</td>\n      <td>360.0</td>\n      <td>439.0</td>\n      <td>467.0</td>\n      <td>213.0</td>\n    </tr>\n    <tr>\n      <th>4</th>\n      <td>Age</td>\n      <td>Age 20 to 24</td>\n      <td>0.0</td>\n      <td>0.0</td>\n      <td>67.0</td>\n      <td>0.0</td>\n      <td>1910.0</td>\n      <td>0.0</td>\n      <td>2153.0</td>\n      <td>104.0</td>\n      <td>...</td>\n      <td>120.0</td>\n      <td>795.0</td>\n      <td>75.0</td>\n      <td>577.0</td>\n      <td>0.0</td>\n      <td>831.0</td>\n      <td>154.0</td>\n      <td>394.0</td>\n      <td>97.0</td>\n      <td>0.0</td>\n    </tr>\n    <tr>\n      <th>...</th>\n      <td>...</td>\n      <td>...</td>\n      <td>...</td>\n      <td>...</td>\n      <td>...</td>\n      <td>...</td>\n      <td>...</td>\n      <td>...</td>\n      <td>...</td>\n      <td>...</td>\n      <td>...</td>\n      <td>...</td>\n      <td>...</td>\n      <td>...</td>\n      <td>...</td>\n      <td>...</td>\n      <td>...</td>\n      <td>...</td>\n      <td>...</td>\n      <td>...</td>\n      <td>...</td>\n    </tr>\n    <tr>\n      <th>66</th>\n      <td>Poverty Status</td>\n      <td>Individuals Below Poverty</td>\n      <td>0.0</td>\n      <td>0.0</td>\n      <td>419.0</td>\n      <td>0.0</td>\n      <td>3044.0</td>\n      <td>474.0</td>\n      <td>1768.0</td>\n      <td>104.0</td>\n      <td>...</td>\n      <td>200.0</td>\n      <td>1403.0</td>\n      <td>0.0</td>\n      <td>144.0</td>\n      <td>0.0</td>\n      <td>543.0</td>\n      <td>81.0</td>\n      <td>286.0</td>\n      <td>144.0</td>\n      <td>42.0</td>\n    </tr>\n    <tr>\n      <th>67</th>\n      <td>Poverty Status</td>\n      <td>Individuals Above Poverty</td>\n      <td>2030.0</td>\n      <td>88.0</td>\n      <td>869.0</td>\n      <td>861.0</td>\n      <td>22067.0</td>\n      <td>865.0</td>\n      <td>12253.0</td>\n      <td>192.0</td>\n      <td>...</td>\n      <td>371.0</td>\n      <td>5616.0</td>\n      <td>1143.0</td>\n      <td>2195.0</td>\n      <td>1355.0</td>\n      <td>7378.0</td>\n      <td>2823.0</td>\n      <td>6185.0</td>\n      <td>2361.0</td>\n      <td>762.0</td>\n    </tr>\n    <tr>\n      <th>68</th>\n      <td>Poverty Status</td>\n      <td>Not Determined</td>\n      <td>0.0</td>\n      <td>0.0</td>\n      <td>0.0</td>\n      <td>0.0</td>\n      <td>0.0</td>\n      <td>0.0</td>\n      <td>0.0</td>\n      <td>0.0</td>\n      <td>...</td>\n      <td>0.0</td>\n      <td>0.0</td>\n      <td>0.0</td>\n      <td>0.0</td>\n      <td>0.0</td>\n      <td>0.0</td>\n      <td>0.0</td>\n      <td>0.0</td>\n      <td>0.0</td>\n      <td>0.0</td>\n    </tr>\n    <tr>\n      <th>69</th>\n      <td>Median Personal Earnings</td>\n      <td>Median Personal Earnings</td>\n      <td>15000.0</td>\n      <td>50800.0</td>\n      <td>20000.0</td>\n      <td>50000.0</td>\n      <td>13000.0</td>\n      <td>8700.0</td>\n      <td>16000.0</td>\n      <td>5500.0</td>\n      <td>...</td>\n      <td>19000.0</td>\n      <td>10400.0</td>\n      <td>24000.0</td>\n      <td>22000.0</td>\n      <td>33000.0</td>\n      <td>15000.0</td>\n      <td>13200.0</td>\n      <td>11100.0</td>\n      <td>16800.0</td>\n      <td>0.0</td>\n    </tr>\n    <tr>\n      <th>70</th>\n      <td>Median Personal Earnings</td>\n      <td>Median Personal Earnings (excl 0 and neg)</td>\n      <td>40000.0</td>\n      <td>50800.0</td>\n      <td>27000.0</td>\n      <td>50000.0</td>\n      <td>20960.0</td>\n      <td>15000.0</td>\n      <td>20000.0</td>\n      <td>7000.0</td>\n      <td>...</td>\n      <td>19000.0</td>\n      <td>16000.0</td>\n      <td>24000.0</td>\n      <td>24000.0</td>\n      <td>33000.0</td>\n      <td>20000.0</td>\n      <td>18000.0</td>\n      <td>22700.0</td>\n      <td>24000.0</td>\n      <td>12000.0</td>\n    </tr>\n  </tbody>\n</table>\n<p>71 rows × 47 columns</p>\n</div>"
     },
     "execution_count": 63,
     "metadata": {},
     "output_type": "execute_result"
    }
   ],
   "source": [
    "year=2005\n",
    "\n",
    "df=data_dict.get(year)\n",
    "df.rename(columns=column_dict,inplace=True)\n",
    "df.rename(columns={'State Code':'class'},inplace=True)\n",
    "df"
   ],
   "metadata": {
    "collapsed": false,
    "pycharm": {
     "name": "#%%\n"
    }
   }
  },
  {
   "cell_type": "code",
   "execution_count": 64,
   "outputs": [
    {
     "name": "stderr",
     "output_type": "stream",
     "text": [
      "C:\\Users\\gu_zh\\anaconda3\\lib\\site-packages\\pandas\\core\\frame.py:4906: SettingWithCopyWarning: \n",
      "A value is trying to be set on a copy of a slice from a DataFrame\n",
      "\n",
      "See the caveats in the documentation: https://pandas.pydata.org/pandas-docs/stable/user_guide/indexing.html#returning-a-view-versus-a-copy\n",
      "  return super().drop(\n"
     ]
    },
    {
     "data": {
      "text/plain": "       AL    AK      AZ     AR       CA      CO       CT     DE     DC  \\\n0  2030.0  88.0  1288.0  861.0  25111.0  1339.0  14021.0  296.0  443.0   \n\n        FL  ...     OR      PA      RI      SC      TN      TX      UT  \\\n0  57175.0  ...  571.0  7019.0  1143.0  2339.0  1355.0  7921.0  2904.0   \n\n       VA      WA     WI  \n0  6471.0  2505.0  804.0  \n\n[1 rows x 45 columns]",
      "text/html": "<div>\n<style scoped>\n    .dataframe tbody tr th:only-of-type {\n        vertical-align: middle;\n    }\n\n    .dataframe tbody tr th {\n        vertical-align: top;\n    }\n\n    .dataframe thead th {\n        text-align: right;\n    }\n</style>\n<table border=\"1\" class=\"dataframe\">\n  <thead>\n    <tr style=\"text-align: right;\">\n      <th></th>\n      <th>AL</th>\n      <th>AK</th>\n      <th>AZ</th>\n      <th>AR</th>\n      <th>CA</th>\n      <th>CO</th>\n      <th>CT</th>\n      <th>DE</th>\n      <th>DC</th>\n      <th>FL</th>\n      <th>...</th>\n      <th>OR</th>\n      <th>PA</th>\n      <th>RI</th>\n      <th>SC</th>\n      <th>TN</th>\n      <th>TX</th>\n      <th>UT</th>\n      <th>VA</th>\n      <th>WA</th>\n      <th>WI</th>\n    </tr>\n  </thead>\n  <tbody>\n    <tr>\n      <th>0</th>\n      <td>2030.0</td>\n      <td>88.0</td>\n      <td>1288.0</td>\n      <td>861.0</td>\n      <td>25111.0</td>\n      <td>1339.0</td>\n      <td>14021.0</td>\n      <td>296.0</td>\n      <td>443.0</td>\n      <td>57175.0</td>\n      <td>...</td>\n      <td>571.0</td>\n      <td>7019.0</td>\n      <td>1143.0</td>\n      <td>2339.0</td>\n      <td>1355.0</td>\n      <td>7921.0</td>\n      <td>2904.0</td>\n      <td>6471.0</td>\n      <td>2505.0</td>\n      <td>804.0</td>\n    </tr>\n  </tbody>\n</table>\n<p>1 rows × 45 columns</p>\n</div>"
     },
     "execution_count": 64,
     "metadata": {},
     "output_type": "execute_result"
    }
   ],
   "source": [
    "import matplotlib.pyplot as plt\n",
    "\n",
    "# population\n",
    "population=df[df['class']=='Population']\n",
    "population.drop(columns=['Type', 'class'],inplace=True)\n",
    "population"
   ],
   "metadata": {
    "collapsed": false,
    "pycharm": {
     "name": "#%%\n"
    }
   }
  },
  {
   "cell_type": "code",
   "execution_count": 65,
   "outputs": [
    {
     "data": {
      "text/plain": "<Figure size 432x288 with 1 Axes>",
      "image/png": "[encoded data removed]"
     },
     "metadata": {
      "needs_background": "light"
     },
     "output_type": "display_data"
    }
   ],
   "source": [
    "population.plot(kind='bar')\n",
    "plt.show()"
   ],
   "metadata": {
    "collapsed": false,
    "pycharm": {
     "name": "#%%\n"
    }
   }
  },
  {
   "cell_type": "code",
   "execution_count": 65,
   "outputs": [],
   "source": [],
   "metadata": {
    "collapsed": false,
    "pycharm": {
     "name": "#%%\n"
    }
   }
  }
 ],
 "metadata": {
  "kernelspec": {
   "display_name": "Python 3",
   "language": "python",
   "name": "python3"
  },
  "language_info": {
   "codemirror_mode": {
    "name": "ipython",
    "version": 2
   },
   "file_extension": ".py",
   "mimetype": "text/x-python",
   "name": "python",
   "nbconvert_exporter": "python",
   "pygments_lexer": "ipython2",
   "version": "2.7.6"
  }
 },
 "nbformat": 4,
 "nbformat_minor": 0
}
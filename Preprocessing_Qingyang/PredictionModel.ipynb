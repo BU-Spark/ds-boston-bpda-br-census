{
 "cells": [
  {
   "cell_type": "code",
   "execution_count": null,
   "metadata": {},
   "outputs": [],
   "source": [
    "#TODO--1. Extract all the features to be like training data\n",
    "#------2. Use linear regression to examine feature correlations(what's correlated to Median Personal Earnings)\n",
    "#------3. Use Linear regression to predict future trends of some features(Median Personal Earnings;labored force)"
   ]
  },
  {
   "cell_type": "markdown",
   "metadata": {},
   "source": [
    "# Feature Engineering\n",
    "\n",
    "Load the preprocessed data files into notebook. Form features."
   ]
  },
  {
   "cell_type": "code",
   "execution_count": 1,
   "metadata": {},
   "outputs": [],
   "source": [
    "import matplotlib.pyplot as plt\n",
    "#a median personal earnings prediction linear regression model only for MA\n",
    "import pandas as pd\n",
    "mpe = pd.read_csv(\"data/Median Personal Earnings.csv\")\n",
    "#These features for training\n",
    "atse = pd.read_csv(\"data/Ability to speak English.csv\")\n",
    "cs = pd.read_csv(\"data/Citizenship.csv\")\n",
    "ea = pd.read_csv(\"data/Educational Attainment.csv\")\n",
    "ms = pd.read_csv(\"data/Marital Status.csv\")\n",
    "ps= pd.read_csv(\"data/Poverty Status.csv\")\n",
    "ye = pd.read_csv(\"data/Year Of Entry.csv\")\n",
    "lf = pd.read_csv(\"data/labor_female.csv\")\n",
    "lm = pd.read_csv(\"data/labor_male.csv\")\n",
    "uf = pd.read_csv(\"data/unemploymentFemale.csv\")\n",
    "um = pd.read_csv(\"data/unemploymentMale.csv\")"
   ]
  },
  {
   "cell_type": "markdown",
   "metadata": {},
   "source": [
    "Median Personal Earnings"
   ]
  },
  {
   "cell_type": "code",
   "execution_count": 2,
   "metadata": {},
   "outputs": [
    {
     "data": {
      "text/plain": [
       "array([19800., 19000., 19000., 20000., 20000., 18000., 20000., 20000.,\n",
       "       24000., 20000., 25000., 24700., 24500., 25000., 25000.])"
      ]
     },
     "execution_count": 2,
     "metadata": {},
     "output_type": "execute_result"
    }
   ],
   "source": [
    "import numpy as np\n",
    "mpe=mpe.iloc[:,1:]\n",
    "mpewithneg=mpe.loc[(mpe['State Code']=='Median Personal Earnings')]\n",
    "\n",
    "y=np.array(mpewithneg['25'])\n",
    "y"
   ]
  },
  {
   "cell_type": "markdown",
   "metadata": {},
   "source": [
    "People can speak English(percentage)"
   ]
  },
  {
   "cell_type": "code",
   "execution_count": 3,
   "metadata": {
    "scrolled": true
   },
   "outputs": [],
   "source": [
    "#this is the proportion of people who can speak english\n",
    "a=list(atse['25'])\n",
    "x1=[]\n",
    "for i in range(0,len(a),2):\n",
    "    tmp=a[i]/a[i+1]\n",
    "    if tmp>1:\n",
    "        x1.append(np.mean(x1))\n",
    "    else:\n",
    "        x1.append(tmp)\n",
    "x1=np.array(x1).reshape(len(x1),1)"
   ]
  },
  {
   "cell_type": "markdown",
   "metadata": {},
   "source": [
    "Citizenship(percentage)"
   ]
  },
  {
   "cell_type": "code",
   "execution_count": 4,
   "metadata": {},
   "outputs": [],
   "source": [
    "#this is the proportion of citizenship(is a citizen/the whole)\n",
    "cs\n",
    "a=list(cs['25'])\n",
    "x2=[]\n",
    "for i in range(0,len(a),2):\n",
    "    tmp=a[i]/(a[i]+a[i+1])\n",
    "    x2.append(tmp)\n",
    "x2=np.array(x2).reshape(len(x2),1)"
   ]
  },
  {
   "cell_type": "markdown",
   "metadata": {},
   "source": [
    "Year of Entry(after 2000s percentage)"
   ]
  },
  {
   "cell_type": "code",
   "execution_count": 5,
   "metadata": {},
   "outputs": [],
   "source": [
    "#this is the proportion of year of entry(after 2000s/whole)\n",
    "ye\n",
    "a=list(ye['25'])\n",
    "x4=[]\n",
    "for i in range(0,len(a),2):\n",
    "    tmp=a[i+1]/(a[i]+a[i+1])\n",
    "    x4.append(tmp)\n",
    "x4=np.array(x4).reshape(len(x4),1)"
   ]
  },
  {
   "cell_type": "markdown",
   "metadata": {},
   "source": [
    "Labored Female"
   ]
  },
  {
   "cell_type": "code",
   "execution_count": 6,
   "metadata": {},
   "outputs": [],
   "source": [
    "#this is the number of labored female\n",
    "x5=np.array(lf.iloc[22])\n",
    "for i in range(len(x5)):\n",
    "    x5[i]=float(x5[i])\n",
    "x5=x5[1:]\n",
    "x5=x5.reshape(len(x5),1)"
   ]
  },
  {
   "cell_type": "markdown",
   "metadata": {},
   "source": [
    "Labored Male"
   ]
  },
  {
   "cell_type": "code",
   "execution_count": 7,
   "metadata": {},
   "outputs": [],
   "source": [
    "#this is the number of labored male\n",
    "x6=np.array(lm.iloc[22])\n",
    "for i in range(len(x6)):\n",
    "    x6[i]=float(x6[i])\n",
    "x6=x6[1:]\n",
    "x6=x6.reshape(len(x6),1)"
   ]
  },
  {
   "cell_type": "markdown",
   "metadata": {},
   "source": [
    "Unemployed Female"
   ]
  },
  {
   "cell_type": "code",
   "execution_count": 8,
   "metadata": {},
   "outputs": [],
   "source": [
    "#this is the number of unemployment female\n",
    "x7=np.array(uf.iloc[22])\n",
    "for i in range(len(x7)):\n",
    "    x7[i]=float(x7[i])\n",
    "x7=x7[1:]\n",
    "x7=x7.reshape(len(x7),1)"
   ]
  },
  {
   "cell_type": "markdown",
   "metadata": {},
   "source": [
    "Unemployed Male"
   ]
  },
  {
   "cell_type": "code",
   "execution_count": 9,
   "metadata": {},
   "outputs": [],
   "source": [
    "#this is the number of unemployment male\n",
    "x8=np.array(um.iloc[22])\n",
    "for i in range(len(x8)):\n",
    "    x8[i]=float(x8[i])\n",
    "x8=x8[1:]\n",
    "x8=x8.reshape(len(x8),1)"
   ]
  },
  {
   "cell_type": "code",
   "execution_count": 10,
   "metadata": {},
   "outputs": [],
   "source": [
    "#all female\n",
    "af=np.sum([x5,x7],axis=0)\n",
    "#all male\n",
    "am=np.sum([x6,x8],axis=0)\n",
    "#female employed rate\n",
    "fe=np.true_divide(x5,af).reshape((len(x5),1))\n",
    "#male employed rate\n",
    "me=np.true_divide(x6,am).reshape((len(x6),1))\n",
    "#all employed rate\n",
    "aa=np.sum([af,am],axis=0)\n",
    "ae=np.sum([x5,x6],axis=0)\n",
    "g=np.true_divide(ae,aa).reshape((len(ae),1))"
   ]
  },
  {
   "cell_type": "code",
   "execution_count": 11,
   "metadata": {},
   "outputs": [
    {
     "name": "stderr",
     "output_type": "stream",
     "text": [
      "<ipython-input-11-66893da57f7a>:14: DeprecationWarning: `np.str` is a deprecated alias for the builtin `str`. To silence this warning, use `str` by itself. Doing this will not modify any behavior and is safe. If you specifically wanted the numpy scalar type, use `np.str_` here.\n",
      "Deprecated in NumPy 1.20; for more details and guidance: https://numpy.org/devdocs/release/1.20.0-notes.html#deprecations\n",
      "  plt.plot(np.arange(2005,2020).astype(dtype=np.str),df['male'],marker='o',label='male')\n",
      "<ipython-input-11-66893da57f7a>:15: DeprecationWarning: `np.str` is a deprecated alias for the builtin `str`. To silence this warning, use `str` by itself. Doing this will not modify any behavior and is safe. If you specifically wanted the numpy scalar type, use `np.str_` here.\n",
      "Deprecated in NumPy 1.20; for more details and guidance: https://numpy.org/devdocs/release/1.20.0-notes.html#deprecations\n",
      "  plt.plot(np.arange(2005,2020).astype(dtype=np.str),df['female'],marker='o',label='female')\n",
      "<ipython-input-11-66893da57f7a>:16: DeprecationWarning: `np.str` is a deprecated alias for the builtin `str`. To silence this warning, use `str` by itself. Doing this will not modify any behavior and is safe. If you specifically wanted the numpy scalar type, use `np.str_` here.\n",
      "Deprecated in NumPy 1.20; for more details and guidance: https://numpy.org/devdocs/release/1.20.0-notes.html#deprecations\n",
      "  plt.plot(np.arange(2005,2020).astype(dtype=np.str),df['all'],marker='o',label='all')\n"
     ]
    },
    {
     "data": {
      "image/png": "[encoded data removed]",
      "text/plain": [
       "<Figure size 720x360 with 1 Axes>"
      ]
     },
     "metadata": {
      "needs_background": "light"
     },
     "output_type": "display_data"
    }
   ],
   "source": [
    "#predict income\n",
    "x=np.array([2005,2006,2007,2008,2009,2010,2011,2012,2013,2014,2015,2016,2017,2018,2019]).reshape((15,1))\n",
    "df=pd.DataFrame()\n",
    "df['year']=x.reshape(len(x))\n",
    "df['male']=me\n",
    "df['female']=fe\n",
    "df['all']=g\n",
    "#df['year']=df['year'].astype('int64')\n",
    "\n",
    "plt.figure(figsize=(10,5))\n",
    "plt.xlabel('Year')\n",
    "plt.ylabel('Labored Rate in MA')\n",
    "plt.title(\"Brazilian Community Labored Rate --MA\")\n",
    "plt.plot(np.arange(2005,2020).astype(dtype=np.str),df['male'],marker='o',label='male')\n",
    "plt.plot(np.arange(2005,2020).astype(dtype=np.str),df['female'],marker='o',label='female')\n",
    "plt.plot(np.arange(2005,2020).astype(dtype=np.str),df['all'],marker='o',label='all')\n",
    "plt.legend()\n",
    "plt.savefig(\"Brazilian Labored Rate--MA.png\")"
   ]
  },
  {
   "cell_type": "markdown",
   "metadata": {},
   "source": [
    "Poverty Status(percentage)"
   ]
  },
  {
   "cell_type": "code",
   "execution_count": 12,
   "metadata": {},
   "outputs": [],
   "source": [
    "#x9 will be above_poverty/above_poverty+below_poverty, right now I won't consider Not_determined\n",
    "ps\n",
    "a=list(ps['25'])\n",
    "x9=[]\n",
    "for i in range(0,len(a),3):\n",
    "    tmp=a[i+1]/(a[i]+a[i+1])\n",
    "    #tmp=a[i+1]/(a[i]+a[i+1]+a[i+2])\n",
    "    x9.append(tmp)\n",
    "x9=np.array(x9).reshape((len(x9),1))"
   ]
  },
  {
   "cell_type": "code",
   "execution_count": 13,
   "metadata": {},
   "outputs": [],
   "source": [
    "#x10 should be about Marital status"
   ]
  },
  {
   "cell_type": "markdown",
   "metadata": {},
   "source": [
    "Labored Force(percentage)"
   ]
  },
  {
   "cell_type": "code",
   "execution_count": 14,
   "metadata": {},
   "outputs": [],
   "source": [
    "#what if combining female and male together\n",
    "#so that x5,x6,x7,x8 becomes one x5: labored/whole\n",
    "#a=np.sum([x5,x6],axis=0)\n",
    "#b=np.sum([x7,x8],axis=0)\n",
    "#c=np.sum([a,b],axis=0)\n",
    "#d=np.true_divide(a,c).reshape((len(d),1))\n",
    "#d\n",
    "a=np.sum([x5,x6],axis=0)\n",
    "b=np.sum([x7,x8],axis=0)\n",
    "c=np.sum([a,b],axis=0)\n",
    "d=np.true_divide(a,c).reshape((len(c),1))"
   ]
  },
  {
   "cell_type": "markdown",
   "metadata": {},
   "source": [
    "# Correlation Analysis--for Median Personal Earnings"
   ]
  },
  {
   "cell_type": "markdown",
   "metadata": {},
   "source": [
    "Combine the features\n",
    "\n",
    "x1-proportion of people who can speak english\n",
    "\n",
    "x2-proportion of citizenship(is a citizen/the whole)\n",
    "\n",
    "x3-\n",
    "\n",
    "x4-proportion of year of entry(after 2000s/whole)\n",
    "\n",
    "x5-number of labored female\n",
    "\n",
    "x6-number of labored male\n",
    "\n",
    "x7-unemployment female\n",
    "\n",
    "x8-unemployment male\n",
    "\n",
    "x9-above_poverty/above_poverty+below_poverty\n",
    "\n",
    "d-Labored Force/labored+unemployed\n",
    "\n",
    "y-Median Personal Earnings"
   ]
  },
  {
   "cell_type": "code",
   "execution_count": 15,
   "metadata": {},
   "outputs": [
    {
     "data": {
      "text/plain": [
       "0.4990063593846584"
      ]
     },
     "execution_count": 15,
     "metadata": {},
     "output_type": "execute_result"
    }
   ],
   "source": [
    "y1=y.reshape((len(y),1))\n",
    "data=np.hstack([x1,x2,x4,d,x9,y1])\n",
    "\n",
    "df=pd.DataFrame(data)\n",
    "df.columns=['English','Citizenship','Entry','Labored','Poverty','Income']\n",
    "df=df.astype('float')\n",
    "\n",
    "df[\"Income\"].corr(df[\"Citizenship\"])\n",
    "\n",
    "df[\"Income\"].corr(df[\"English\"])\n",
    "\n",
    "df[\"Income\"].corr(df[\"Entry\"])"
   ]
  },
  {
   "cell_type": "code",
   "execution_count": 16,
   "metadata": {},
   "outputs": [
    {
     "data": {
      "text/plain": [
       "0.04438632348363138"
      ]
     },
     "execution_count": 16,
     "metadata": {},
     "output_type": "execute_result"
    }
   ],
   "source": [
    "df[\"Income\"].corr(df[\"Labored\"])\n",
    "\n",
    "df[\"Income\"].corr(df[\"Poverty\"])"
   ]
  },
  {
   "cell_type": "code",
   "execution_count": 17,
   "metadata": {},
   "outputs": [
    {
     "data": {
      "text/plain": [
       "array([[0.1333642 , 0.57156087, 0.94142781],\n",
       "       [0.1406825 , 0.60008706, 0.96118634],\n",
       "       [0.13008262, 0.66038319, 0.96355755],\n",
       "       [0.18146648, 0.62171858, 0.95420095],\n",
       "       [0.17537625, 0.60681707, 0.93554251],\n",
       "       [0.16635179, 0.64971798, 0.9280459 ],\n",
       "       [0.19679536, 0.66879041, 0.92276952],\n",
       "       [0.30648351, 0.58406068, 0.93072195],\n",
       "       [0.22864403, 0.61797171, 0.94320509],\n",
       "       [0.2994959 , 0.66322518, 0.95217106],\n",
       "       [0.33035612, 0.63542503, 0.96015097],\n",
       "       [0.32482675, 0.62141645, 0.96111864],\n",
       "       [0.25101235, 0.69220958, 0.94802505],\n",
       "       [0.29781441, 0.73492063, 0.94852307],\n",
       "       [0.24701199, 0.81036838, 0.98712206]])"
      ]
     },
     "execution_count": 17,
     "metadata": {},
     "output_type": "execute_result"
    }
   ],
   "source": [
    "X=np.hstack([x2,x4,d])\n",
    "#X=np.hstack([x1,x2,d])\n",
    "#X=np.hstack([x2])\n",
    "#X=np.hstack([x1,d,x9])\n",
    "#X=np.hstack([d])\n",
    "\n",
    "X= X.astype(np.float64) \n",
    "X"
   ]
  },
  {
   "cell_type": "code",
   "execution_count": 18,
   "metadata": {},
   "outputs": [
    {
     "data": {
      "text/plain": [
       "False"
      ]
     },
     "execution_count": 18,
     "metadata": {},
     "output_type": "execute_result"
    }
   ],
   "source": [
    "contain_nan = (True in np.isnan(X))\n",
    "contain_nan"
   ]
  },
  {
   "cell_type": "code",
   "execution_count": 19,
   "metadata": {},
   "outputs": [
    {
     "data": {
      "text/plain": [
       "array([[0.01638551, 0.        , 0.28993861],\n",
       "       [0.05292706, 0.11945267, 0.59697447],\n",
       "       [0.        , 0.3719411 , 0.63382156],\n",
       "       [0.25656843, 0.21003406, 0.48842561],\n",
       "       [0.22615888, 0.1476344 , 0.19848459],\n",
       "       [0.1810982 , 0.32728079, 0.08199186],\n",
       "       [0.33310818, 0.40714611, 0.        ],\n",
       "       [0.88079999, 0.05234263, 0.12357601],\n",
       "       [0.49213406, 0.19434415, 0.31755658],\n",
       "       [0.84590964, 0.38384184, 0.4568823 ],\n",
       "       [1.        , 0.26742947, 0.58088543],\n",
       "       [0.97239093, 0.20876892, 0.59592244],\n",
       "       [0.60382291, 0.50521322, 0.39245576],\n",
       "       [0.83751365, 0.68406461, 0.40019484],\n",
       "       [0.58384847, 1.        , 1.        ]])"
      ]
     },
     "execution_count": 19,
     "metadata": {},
     "output_type": "execute_result"
    }
   ],
   "source": [
    "def maxminnorm(array):\n",
    "    maxcols=array.max(axis=0)\n",
    "    mincols=array.min(axis=0)\n",
    "    data_shape = array.shape\n",
    "    data_rows = data_shape[0]\n",
    "    data_cols = data_shape[1]\n",
    "    t=np.empty((data_rows,data_cols))\n",
    "    for i in range(data_cols):\n",
    "        t[:,i]=(array[:,i]-mincols[i])/(maxcols[i]-mincols[i])\n",
    "    return t\n",
    "X1=maxminnorm(X)\n",
    "X1"
   ]
  },
  {
   "cell_type": "code",
   "execution_count": 20,
   "metadata": {},
   "outputs": [
    {
     "data": {
      "text/plain": [
       "array([[-1.34900917, -1.30627008, -0.48379552],\n",
       "       [-1.24393095, -0.82659703,  0.74856094],\n",
       "       [-1.39612706,  0.18729317,  0.8964549 ],\n",
       "       [-0.6583434 , -0.46285922,  0.31287606],\n",
       "       [-0.74578857, -0.71343073, -0.85086648],\n",
       "       [-0.87536427,  0.00795567, -1.31843586],\n",
       "       [-0.43824704,  0.32866208, -1.64752837],\n",
       "       [ 1.13668588, -1.09608348, -1.15152867],\n",
       "       [ 0.01904499, -0.5258635 , -0.37294467],\n",
       "       [ 1.03635582,  0.23508168,  0.18626998],\n",
       "       [ 1.47945534, -0.23238277,  0.68398403],\n",
       "       [ 1.40006319, -0.4679395 ,  0.74433838],\n",
       "       [ 0.34021548,  0.72245947, -0.07232022],\n",
       "       [ 1.01221245,  1.4406535 , -0.04125771],\n",
       "       [ 0.28277732,  2.70932073,  2.36619321]])"
      ]
     },
     "execution_count": 20,
     "metadata": {},
     "output_type": "execute_result"
    }
   ],
   "source": [
    "from sklearn import preprocessing\n",
    "min_max_scaler = preprocessing.MinMaxScaler()\n",
    "standard_scaler = preprocessing.StandardScaler()\n",
    "X2 = standard_scaler.fit_transform(X)\n",
    "X2"
   ]
  },
  {
   "cell_type": "code",
   "execution_count": 21,
   "metadata": {},
   "outputs": [],
   "source": [
    "import statsmodels.api as sm\n",
    "X_intercept = sm.add_constant(X2)\n",
    "#y is y"
   ]
  },
  {
   "cell_type": "code",
   "execution_count": 22,
   "metadata": {},
   "outputs": [
    {
     "name": "stdout",
     "output_type": "stream",
     "text": [
      "                            OLS Regression Results                            \n",
      "==============================================================================\n",
      "Dep. Variable:                      y   R-squared:                       0.820\n",
      "Model:                            OLS   Adj. R-squared:                  0.743\n",
      "Method:                 Least Squares   F-statistic:                     10.64\n",
      "Date:                Mon, 06 Dec 2021   Prob (F-statistic):            0.00533\n",
      "Time:                        16:45:17   Log-Likelihood:                -93.226\n",
      "No. Observations:                  11   AIC:                             194.5\n",
      "Df Residuals:                       7   BIC:                             196.0\n",
      "Df Model:                           3                                         \n",
      "Covariance Type:            nonrobust                                         \n",
      "==============================================================================\n",
      "                 coef    std err          t      P>|t|      [0.025      0.975]\n",
      "------------------------------------------------------------------------------\n",
      "const       2.169e+04    440.753     49.210      0.000    2.06e+04    2.27e+04\n",
      "x1          1718.6387    426.881      4.026      0.005     709.225    2728.053\n",
      "x2           601.2833    519.339      1.158      0.285    -626.758    1829.325\n",
      "x3           798.1206    570.562      1.399      0.205    -551.044    2147.286\n",
      "==============================================================================\n",
      "Omnibus:                        0.301   Durbin-Watson:                   2.831\n",
      "Prob(Omnibus):                  0.860   Jarque-Bera (JB):                0.431\n",
      "Skew:                          -0.053   Prob(JB):                        0.806\n",
      "Kurtosis:                       2.036   Cond. No.                         2.28\n",
      "==============================================================================\n",
      "\n",
      "Notes:\n",
      "[1] Standard Errors assume that the covariance matrix of the errors is correctly specified.\n"
     ]
    },
    {
     "name": "stderr",
     "output_type": "stream",
     "text": [
      "C:\\Users\\HP\\anaconda3\\lib\\site-packages\\scipy\\stats\\stats.py:1603: UserWarning: kurtosistest only valid for n>=20 ... continuing anyway, n=11\n",
      "  warnings.warn(\"kurtosistest only valid for n>=20 ... continuing \"\n"
     ]
    }
   ],
   "source": [
    "from sklearn.model_selection import train_test_split\n",
    "X_train, X_test, y_train, y_test = train_test_split(\n",
    "        X_intercept,\n",
    "        y,\n",
    "        test_size=4,\n",
    "        random_state=0\n",
    "    )\n",
    "\n",
    "model = sm.OLS(y_train, X_train)\n",
    "results = model.fit()\n",
    "print(results.summary())"
   ]
  },
  {
   "cell_type": "code",
   "execution_count": 23,
   "metadata": {},
   "outputs": [
    {
     "data": {
      "text/plain": [
       "array([21689.28008477,  1718.63869826,   601.2832624 ,   798.12062312])"
      ]
     },
     "execution_count": 23,
     "metadata": {},
     "output_type": "execute_result"
    }
   ],
   "source": [
    "results.params"
   ]
  },
  {
   "cell_type": "code",
   "execution_count": 24,
   "metadata": {},
   "outputs": [
    {
     "name": "stdout",
     "output_type": "stream",
     "text": [
      "[19651.83517428 19818.78440872 21108.16378795 23760.41790055]\n",
      "[19000. 20000. 24000. 20000.]\n",
      "RMSE on testing set =  5740296.912262317\n"
     ]
    }
   ],
   "source": [
    "\n",
    "ypred = results.predict(X_test)\n",
    "from sklearn.metrics import mean_squared_error, confusion_matrix\n",
    "print(ypred)\n",
    "print(y_test)\n",
    "print(\"RMSE on testing set = \", mean_squared_error(y_test, ypred))"
   ]
  },
  {
   "cell_type": "code",
   "execution_count": 25,
   "metadata": {},
   "outputs": [
    {
     "data": {
      "image/png": "[encoded data removed]",
      "text/plain": [
       "<Figure size 432x288 with 1 Axes>"
      ]
     },
     "metadata": {
      "needs_background": "light"
     },
     "output_type": "display_data"
    }
   ],
   "source": [
    "import matplotlib.pyplot as plt\n",
    "%matplotlib inline\n",
    "from sklearn.metrics import r2_score\n",
    "\n",
    "plt.figsize=(8, 5)\n",
    "y_is_predict = results.predict(X_train)\n",
    "plt.scatter(y_train, y_is_predict, s = 8)\n",
    "r2_train = r2_score(y_train, y_is_predict)\n",
    "plt.xlabel('True Income')\n",
    "plt.plot([0,40000],[0,40000],'r-')\n",
    "plt.axis('equal')\n",
    "plt.ylim([0,40000])\n",
    "plt.xlim([0,40000])\n",
    "plt.title(f'In Sample Prediction, $R^2$ is {r2_train:0.3f}');"
   ]
  },
  {
   "cell_type": "code",
   "execution_count": 26,
   "metadata": {},
   "outputs": [
    {
     "data": {
      "image/png": "[encoded data removed]",
      "text/plain": [
       "<Figure size 864x360 with 2 Axes>"
      ]
     },
     "metadata": {
      "needs_background": "light"
     },
     "output_type": "display_data"
    }
   ],
   "source": [
    "%matplotlib inline\n",
    "from sklearn.metrics import r2_score\n",
    "\n",
    "fig, (ax1, ax2) = plt.subplots(1,2,sharey = 'row', figsize=(12, 5))\n",
    "y_oos_predict = results.predict(X_test)\n",
    "r2_test = r2_score(y_test, y_oos_predict)\n",
    "ax1.scatter(y_test, y_oos_predict, s = 8)\n",
    "ax1.set_xlabel('True Earnings')\n",
    "ax1.set_ylabel('Predicted Earnings')\n",
    "ax1.plot([0,30000], [0,30000], 'r-')\n",
    "ax1.axis('equal')\n",
    "ax1.set_ylim([0, 30000])\n",
    "ax1.set_xlim([0, 30000])\n",
    "ax1.set_title(f'Out of Sample Prediction, $R^2$ is {r2_test:0.3f}')\n",
    "#\n",
    "y_is_predict = results.predict(X_train)\n",
    "ax2.scatter(y_train, y_is_predict, s = 8)\n",
    "r2_train = r2_score(y_train, y_is_predict)\n",
    "ax2.set_xlabel('True Earnings')\n",
    "ax2.plot([0,30000],[0,30000],'r-')\n",
    "ax2.axis('equal')\n",
    "ax2.set_ylim([0,30000])\n",
    "ax2.set_xlim([0,30000])\n",
    "ax2.set_title(f'In Sample Prediction, $R^2$ is {r2_train:0.3f}');"
   ]
  },
  {
   "cell_type": "markdown",
   "metadata": {},
   "source": [
    "Conclusion: \n",
    "\n",
    "x2-proportion of citizenship(is a citizen/the whole)\n",
    "\n",
    "x4-proportion of people who entry after 2000s\n",
    "\n",
    "d-Labored Force/labored+unemployed\n",
    "\n",
    "These features are correlated to Median Personal Income."
   ]
  },
  {
   "cell_type": "code",
   "execution_count": 27,
   "metadata": {},
   "outputs": [
    {
     "data": {
      "text/html": [
       "<div>\n",
       "<style scoped>\n",
       "    .dataframe tbody tr th:only-of-type {\n",
       "        vertical-align: middle;\n",
       "    }\n",
       "\n",
       "    .dataframe tbody tr th {\n",
       "        vertical-align: top;\n",
       "    }\n",
       "\n",
       "    .dataframe thead th {\n",
       "        text-align: right;\n",
       "    }\n",
       "</style>\n",
       "<table border=\"1\" class=\"dataframe\">\n",
       "  <thead>\n",
       "    <tr style=\"text-align: right;\">\n",
       "      <th></th>\n",
       "      <th>Unnamed: 0</th>\n",
       "      <th>Year</th>\n",
       "      <th>Type</th>\n",
       "      <th>State Code</th>\n",
       "      <th>1</th>\n",
       "      <th>2</th>\n",
       "      <th>4</th>\n",
       "      <th>5</th>\n",
       "      <th>6</th>\n",
       "      <th>8</th>\n",
       "      <th>...</th>\n",
       "      <th>49</th>\n",
       "      <th>51</th>\n",
       "      <th>53</th>\n",
       "      <th>55</th>\n",
       "      <th>31</th>\n",
       "      <th>46</th>\n",
       "      <th>50</th>\n",
       "      <th>54</th>\n",
       "      <th>38</th>\n",
       "      <th>56</th>\n",
       "    </tr>\n",
       "  </thead>\n",
       "  <tbody>\n",
       "    <tr>\n",
       "      <th>0</th>\n",
       "      <td>56</td>\n",
       "      <td>2005</td>\n",
       "      <td>Employment by Occupation</td>\n",
       "      <td>Management &amp; Professional</td>\n",
       "      <td>857.0</td>\n",
       "      <td>0.0</td>\n",
       "      <td>395.0</td>\n",
       "      <td>222.0</td>\n",
       "      <td>9966.0</td>\n",
       "      <td>249.0</td>\n",
       "      <td>...</td>\n",
       "      <td>1034.0</td>\n",
       "      <td>2814.0</td>\n",
       "      <td>880.0</td>\n",
       "      <td>619.0</td>\n",
       "      <td>NaN</td>\n",
       "      <td>NaN</td>\n",
       "      <td>NaN</td>\n",
       "      <td>NaN</td>\n",
       "      <td>NaN</td>\n",
       "      <td>NaN</td>\n",
       "    </tr>\n",
       "    <tr>\n",
       "      <th>1</th>\n",
       "      <td>57</td>\n",
       "      <td>2005</td>\n",
       "      <td>Employment by Occupation</td>\n",
       "      <td>Services</td>\n",
       "      <td>623.0</td>\n",
       "      <td>0.0</td>\n",
       "      <td>0.0</td>\n",
       "      <td>156.0</td>\n",
       "      <td>4154.0</td>\n",
       "      <td>613.0</td>\n",
       "      <td>...</td>\n",
       "      <td>428.0</td>\n",
       "      <td>1552.0</td>\n",
       "      <td>965.0</td>\n",
       "      <td>0.0</td>\n",
       "      <td>NaN</td>\n",
       "      <td>NaN</td>\n",
       "      <td>NaN</td>\n",
       "      <td>NaN</td>\n",
       "      <td>NaN</td>\n",
       "      <td>NaN</td>\n",
       "    </tr>\n",
       "    <tr>\n",
       "      <th>2</th>\n",
       "      <td>58</td>\n",
       "      <td>2005</td>\n",
       "      <td>Employment by Occupation</td>\n",
       "      <td>Sales and Office</td>\n",
       "      <td>161.0</td>\n",
       "      <td>0.0</td>\n",
       "      <td>367.0</td>\n",
       "      <td>385.0</td>\n",
       "      <td>4484.0</td>\n",
       "      <td>332.0</td>\n",
       "      <td>...</td>\n",
       "      <td>502.0</td>\n",
       "      <td>302.0</td>\n",
       "      <td>550.0</td>\n",
       "      <td>144.0</td>\n",
       "      <td>NaN</td>\n",
       "      <td>NaN</td>\n",
       "      <td>NaN</td>\n",
       "      <td>NaN</td>\n",
       "      <td>NaN</td>\n",
       "      <td>NaN</td>\n",
       "    </tr>\n",
       "    <tr>\n",
       "      <th>3</th>\n",
       "      <td>59</td>\n",
       "      <td>2005</td>\n",
       "      <td>Employment by Occupation</td>\n",
       "      <td>Construction and Extracion</td>\n",
       "      <td>0.0</td>\n",
       "      <td>88.0</td>\n",
       "      <td>0.0</td>\n",
       "      <td>0.0</td>\n",
       "      <td>673.0</td>\n",
       "      <td>0.0</td>\n",
       "      <td>...</td>\n",
       "      <td>0.0</td>\n",
       "      <td>1364.0</td>\n",
       "      <td>0.0</td>\n",
       "      <td>0.0</td>\n",
       "      <td>NaN</td>\n",
       "      <td>NaN</td>\n",
       "      <td>NaN</td>\n",
       "      <td>NaN</td>\n",
       "      <td>NaN</td>\n",
       "      <td>NaN</td>\n",
       "    </tr>\n",
       "    <tr>\n",
       "      <th>4</th>\n",
       "      <td>60</td>\n",
       "      <td>2005</td>\n",
       "      <td>Employment by Occupation</td>\n",
       "      <td>Maintenance and Repair</td>\n",
       "      <td>238.0</td>\n",
       "      <td>0.0</td>\n",
       "      <td>0.0</td>\n",
       "      <td>0.0</td>\n",
       "      <td>64.0</td>\n",
       "      <td>0.0</td>\n",
       "      <td>...</td>\n",
       "      <td>0.0</td>\n",
       "      <td>0.0</td>\n",
       "      <td>0.0</td>\n",
       "      <td>0.0</td>\n",
       "      <td>NaN</td>\n",
       "      <td>NaN</td>\n",
       "      <td>NaN</td>\n",
       "      <td>NaN</td>\n",
       "      <td>NaN</td>\n",
       "      <td>NaN</td>\n",
       "    </tr>\n",
       "    <tr>\n",
       "      <th>...</th>\n",
       "      <td>...</td>\n",
       "      <td>...</td>\n",
       "      <td>...</td>\n",
       "      <td>...</td>\n",
       "      <td>...</td>\n",
       "      <td>...</td>\n",
       "      <td>...</td>\n",
       "      <td>...</td>\n",
       "      <td>...</td>\n",
       "      <td>...</td>\n",
       "      <td>...</td>\n",
       "      <td>...</td>\n",
       "      <td>...</td>\n",
       "      <td>...</td>\n",
       "      <td>...</td>\n",
       "      <td>...</td>\n",
       "      <td>...</td>\n",
       "      <td>...</td>\n",
       "      <td>...</td>\n",
       "      <td>...</td>\n",
       "      <td>...</td>\n",
       "    </tr>\n",
       "    <tr>\n",
       "      <th>145</th>\n",
       "      <td>61</td>\n",
       "      <td>2019</td>\n",
       "      <td>Employment by Occupation</td>\n",
       "      <td>Production, Transportation and Material Moving</td>\n",
       "      <td>45.0</td>\n",
       "      <td>0.0</td>\n",
       "      <td>131.0</td>\n",
       "      <td>0.0</td>\n",
       "      <td>4032.0</td>\n",
       "      <td>236.0</td>\n",
       "      <td>...</td>\n",
       "      <td>122.0</td>\n",
       "      <td>211.0</td>\n",
       "      <td>85.0</td>\n",
       "      <td>0.0</td>\n",
       "      <td>0.0</td>\n",
       "      <td>NaN</td>\n",
       "      <td>0.0</td>\n",
       "      <td>0.0</td>\n",
       "      <td>NaN</td>\n",
       "      <td>NaN</td>\n",
       "    </tr>\n",
       "    <tr>\n",
       "      <th>146</th>\n",
       "      <td>62</td>\n",
       "      <td>2019</td>\n",
       "      <td>Employment by Occupation</td>\n",
       "      <td>Educational Instruction and Library Occupations</td>\n",
       "      <td>0.0</td>\n",
       "      <td>0.0</td>\n",
       "      <td>352.0</td>\n",
       "      <td>0.0</td>\n",
       "      <td>2474.0</td>\n",
       "      <td>478.0</td>\n",
       "      <td>...</td>\n",
       "      <td>138.0</td>\n",
       "      <td>472.0</td>\n",
       "      <td>466.0</td>\n",
       "      <td>0.0</td>\n",
       "      <td>121.0</td>\n",
       "      <td>NaN</td>\n",
       "      <td>0.0</td>\n",
       "      <td>0.0</td>\n",
       "      <td>NaN</td>\n",
       "      <td>NaN</td>\n",
       "    </tr>\n",
       "    <tr>\n",
       "      <th>147</th>\n",
       "      <td>63</td>\n",
       "      <td>2019</td>\n",
       "      <td>Employment by Occupation</td>\n",
       "      <td>Arts, Design, Entertainment, Sports, and Media...</td>\n",
       "      <td>128.0</td>\n",
       "      <td>0.0</td>\n",
       "      <td>248.0</td>\n",
       "      <td>0.0</td>\n",
       "      <td>3216.0</td>\n",
       "      <td>131.0</td>\n",
       "      <td>...</td>\n",
       "      <td>193.0</td>\n",
       "      <td>85.0</td>\n",
       "      <td>43.0</td>\n",
       "      <td>0.0</td>\n",
       "      <td>0.0</td>\n",
       "      <td>NaN</td>\n",
       "      <td>0.0</td>\n",
       "      <td>0.0</td>\n",
       "      <td>NaN</td>\n",
       "      <td>NaN</td>\n",
       "    </tr>\n",
       "    <tr>\n",
       "      <th>148</th>\n",
       "      <td>64</td>\n",
       "      <td>2019</td>\n",
       "      <td>Employment by Occupation</td>\n",
       "      <td>Healthcare Practitioner and Technical Occupations</td>\n",
       "      <td>0.0</td>\n",
       "      <td>0.0</td>\n",
       "      <td>226.0</td>\n",
       "      <td>0.0</td>\n",
       "      <td>1070.0</td>\n",
       "      <td>137.0</td>\n",
       "      <td>...</td>\n",
       "      <td>0.0</td>\n",
       "      <td>50.0</td>\n",
       "      <td>259.0</td>\n",
       "      <td>0.0</td>\n",
       "      <td>0.0</td>\n",
       "      <td>NaN</td>\n",
       "      <td>0.0</td>\n",
       "      <td>0.0</td>\n",
       "      <td>NaN</td>\n",
       "      <td>NaN</td>\n",
       "    </tr>\n",
       "    <tr>\n",
       "      <th>149</th>\n",
       "      <td>65</td>\n",
       "      <td>2019</td>\n",
       "      <td>Employment by Occupation</td>\n",
       "      <td>Other</td>\n",
       "      <td>0.0</td>\n",
       "      <td>20.0</td>\n",
       "      <td>0.0</td>\n",
       "      <td>0.0</td>\n",
       "      <td>786.0</td>\n",
       "      <td>0.0</td>\n",
       "      <td>...</td>\n",
       "      <td>0.0</td>\n",
       "      <td>87.0</td>\n",
       "      <td>0.0</td>\n",
       "      <td>0.0</td>\n",
       "      <td>0.0</td>\n",
       "      <td>NaN</td>\n",
       "      <td>0.0</td>\n",
       "      <td>0.0</td>\n",
       "      <td>NaN</td>\n",
       "      <td>NaN</td>\n",
       "    </tr>\n",
       "  </tbody>\n",
       "</table>\n",
       "<p>150 rows × 55 columns</p>\n",
       "</div>"
      ],
      "text/plain": [
       "     Unnamed: 0  Year                      Type  \\\n",
       "0            56  2005  Employment by Occupation   \n",
       "1            57  2005  Employment by Occupation   \n",
       "2            58  2005  Employment by Occupation   \n",
       "3            59  2005  Employment by Occupation   \n",
       "4            60  2005  Employment by Occupation   \n",
       "..          ...   ...                       ...   \n",
       "145          61  2019  Employment by Occupation   \n",
       "146          62  2019  Employment by Occupation   \n",
       "147          63  2019  Employment by Occupation   \n",
       "148          64  2019  Employment by Occupation   \n",
       "149          65  2019  Employment by Occupation   \n",
       "\n",
       "                                            State Code      1     2      4  \\\n",
       "0                            Management & Professional  857.0   0.0  395.0   \n",
       "1                                             Services  623.0   0.0    0.0   \n",
       "2                                     Sales and Office  161.0   0.0  367.0   \n",
       "3                           Construction and Extracion    0.0  88.0    0.0   \n",
       "4                               Maintenance and Repair  238.0   0.0    0.0   \n",
       "..                                                 ...    ...   ...    ...   \n",
       "145     Production, Transportation and Material Moving   45.0   0.0  131.0   \n",
       "146    Educational Instruction and Library Occupations    0.0   0.0  352.0   \n",
       "147  Arts, Design, Entertainment, Sports, and Media...  128.0   0.0  248.0   \n",
       "148  Healthcare Practitioner and Technical Occupations    0.0   0.0  226.0   \n",
       "149                                              Other    0.0  20.0    0.0   \n",
       "\n",
       "         5       6      8  ...      49      51     53     55     31  46   50  \\\n",
       "0    222.0  9966.0  249.0  ...  1034.0  2814.0  880.0  619.0    NaN NaN  NaN   \n",
       "1    156.0  4154.0  613.0  ...   428.0  1552.0  965.0    0.0    NaN NaN  NaN   \n",
       "2    385.0  4484.0  332.0  ...   502.0   302.0  550.0  144.0    NaN NaN  NaN   \n",
       "3      0.0   673.0    0.0  ...     0.0  1364.0    0.0    0.0    NaN NaN  NaN   \n",
       "4      0.0    64.0    0.0  ...     0.0     0.0    0.0    0.0    NaN NaN  NaN   \n",
       "..     ...     ...    ...  ...     ...     ...    ...    ...    ...  ..  ...   \n",
       "145    0.0  4032.0  236.0  ...   122.0   211.0   85.0    0.0    0.0 NaN  0.0   \n",
       "146    0.0  2474.0  478.0  ...   138.0   472.0  466.0    0.0  121.0 NaN  0.0   \n",
       "147    0.0  3216.0  131.0  ...   193.0    85.0   43.0    0.0    0.0 NaN  0.0   \n",
       "148    0.0  1070.0  137.0  ...     0.0    50.0  259.0    0.0    0.0 NaN  0.0   \n",
       "149    0.0   786.0    0.0  ...     0.0    87.0    0.0    0.0    0.0 NaN  0.0   \n",
       "\n",
       "      54  38  56  \n",
       "0    NaN NaN NaN  \n",
       "1    NaN NaN NaN  \n",
       "2    NaN NaN NaN  \n",
       "3    NaN NaN NaN  \n",
       "4    NaN NaN NaN  \n",
       "..   ...  ..  ..  \n",
       "145  0.0 NaN NaN  \n",
       "146  0.0 NaN NaN  \n",
       "147  0.0 NaN NaN  \n",
       "148  0.0 NaN NaN  \n",
       "149  0.0 NaN NaN  \n",
       "\n",
       "[150 rows x 55 columns]"
      ]
     },
     "execution_count": 27,
     "metadata": {},
     "output_type": "execute_result"
    }
   ],
   "source": [
    "eo = pd.read_csv(\"data/Employment by Occupation.csv\")\n",
    "eo"
   ]
  },
  {
   "cell_type": "code",
   "execution_count": 28,
   "metadata": {},
   "outputs": [
    {
     "data": {
      "image/png": "[encoded data removed]",
      "text/plain": [
       "<Figure size 720x504 with 1 Axes>"
      ]
     },
     "metadata": {
      "needs_background": "light"
     },
     "output_type": "display_data"
    }
   ],
   "source": [
    "import matplotlib.pyplot as plt\n",
    "import numpy as np\n",
    "def eoForState(statecode):\n",
    "    s=str(statecode)\n",
    "    eoMA=eo[['Year','State Code',s]]\n",
    "    top5eoMA=eoMA.groupby('Year')[['State Code',s]].apply(lambda x:x.sort_values(by=[s],ascending=False)[:5]).reset_index()\n",
    "    fig, ax = plt.subplots(figsize=(10,7))  \n",
    "    plt.title(\"Brazilian Employment by Occupation through years--State Code \"+s)\n",
    "    State_Code = top5eoMA['State Code'].drop_duplicates()\n",
    "    margin_bottom = np.zeros(len(top5eoMA['Year'].drop_duplicates()))\n",
    "    colors = [\"r\", \"b\",\"g\",'y','m']\n",
    "\n",
    "    for num, month in enumerate(State_Code):\n",
    "        values = list(top5eoMA[top5eoMA['State Code'] == month].loc[:, s])\n",
    "\n",
    "        top5eoMA[top5eoMA['State Code'] == month].plot.bar(x='Year',y=s, ax=ax, stacked=True, \n",
    "                                    bottom = margin_bottom, color=colors[num], label=month)\n",
    "        margin_bottom += values\n",
    "    plt.savefig('MA Brazilian Employment by Occupation through years.png')\n",
    "    plt.show()\n",
    "eoForState(25)"
   ]
  },
  {
   "cell_type": "code",
   "execution_count": 29,
   "metadata": {},
   "outputs": [],
   "source": [
    "#As we can see from the graph, services is the most significant part of employment\n",
    "#is the proportion of services and management&professional correlated to personal income/poverty/labored rate/English profiency?"
   ]
  },
  {
   "cell_type": "code",
   "execution_count": 30,
   "metadata": {
    "scrolled": true
   },
   "outputs": [
    {
     "data": {
      "text/html": [
       "<div>\n",
       "<style scoped>\n",
       "    .dataframe tbody tr th:only-of-type {\n",
       "        vertical-align: middle;\n",
       "    }\n",
       "\n",
       "    .dataframe tbody tr th {\n",
       "        vertical-align: top;\n",
       "    }\n",
       "\n",
       "    .dataframe thead th {\n",
       "        text-align: right;\n",
       "    }\n",
       "</style>\n",
       "<table border=\"1\" class=\"dataframe\">\n",
       "  <thead>\n",
       "    <tr style=\"text-align: right;\">\n",
       "      <th></th>\n",
       "      <th>Year</th>\n",
       "      <th>State Code</th>\n",
       "      <th>25</th>\n",
       "    </tr>\n",
       "  </thead>\n",
       "  <tbody>\n",
       "    <tr>\n",
       "      <th>0</th>\n",
       "      <td>2005</td>\n",
       "      <td>Management &amp; Professional</td>\n",
       "      <td>16245.0</td>\n",
       "    </tr>\n",
       "    <tr>\n",
       "      <th>1</th>\n",
       "      <td>2005</td>\n",
       "      <td>Services</td>\n",
       "      <td>35904.0</td>\n",
       "    </tr>\n",
       "    <tr>\n",
       "      <th>2</th>\n",
       "      <td>2005</td>\n",
       "      <td>Sales and Office</td>\n",
       "      <td>10976.0</td>\n",
       "    </tr>\n",
       "    <tr>\n",
       "      <th>3</th>\n",
       "      <td>2005</td>\n",
       "      <td>Construction and Extracion</td>\n",
       "      <td>10546.0</td>\n",
       "    </tr>\n",
       "    <tr>\n",
       "      <th>4</th>\n",
       "      <td>2005</td>\n",
       "      <td>Maintenance and Repair</td>\n",
       "      <td>641.0</td>\n",
       "    </tr>\n",
       "    <tr>\n",
       "      <th>...</th>\n",
       "      <td>...</td>\n",
       "      <td>...</td>\n",
       "      <td>...</td>\n",
       "    </tr>\n",
       "    <tr>\n",
       "      <th>145</th>\n",
       "      <td>2019</td>\n",
       "      <td>Production, Transportation and Material Moving</td>\n",
       "      <td>7244.0</td>\n",
       "    </tr>\n",
       "    <tr>\n",
       "      <th>146</th>\n",
       "      <td>2019</td>\n",
       "      <td>Educational Instruction and Library Occupations</td>\n",
       "      <td>1985.0</td>\n",
       "    </tr>\n",
       "    <tr>\n",
       "      <th>147</th>\n",
       "      <td>2019</td>\n",
       "      <td>Arts, Design, Entertainment, Sports, and Media...</td>\n",
       "      <td>1327.0</td>\n",
       "    </tr>\n",
       "    <tr>\n",
       "      <th>148</th>\n",
       "      <td>2019</td>\n",
       "      <td>Healthcare Practitioner and Technical Occupations</td>\n",
       "      <td>2015.0</td>\n",
       "    </tr>\n",
       "    <tr>\n",
       "      <th>149</th>\n",
       "      <td>2019</td>\n",
       "      <td>Other</td>\n",
       "      <td>324.0</td>\n",
       "    </tr>\n",
       "  </tbody>\n",
       "</table>\n",
       "<p>150 rows × 3 columns</p>\n",
       "</div>"
      ],
      "text/plain": [
       "     Year                                         State Code       25\n",
       "0    2005                          Management & Professional  16245.0\n",
       "1    2005                                           Services  35904.0\n",
       "2    2005                                   Sales and Office  10976.0\n",
       "3    2005                         Construction and Extracion  10546.0\n",
       "4    2005                             Maintenance and Repair    641.0\n",
       "..    ...                                                ...      ...\n",
       "145  2019     Production, Transportation and Material Moving   7244.0\n",
       "146  2019    Educational Instruction and Library Occupations   1985.0\n",
       "147  2019  Arts, Design, Entertainment, Sports, and Media...   1327.0\n",
       "148  2019  Healthcare Practitioner and Technical Occupations   2015.0\n",
       "149  2019                                              Other    324.0\n",
       "\n",
       "[150 rows x 3 columns]"
      ]
     },
     "execution_count": 30,
     "metadata": {},
     "output_type": "execute_result"
    }
   ],
   "source": [
    "#10 rows for each year\n",
    "eoMA=eo[['Year','State Code','25']]\n",
    "eoMA"
   ]
  },
  {
   "cell_type": "code",
   "execution_count": 31,
   "metadata": {},
   "outputs": [
    {
     "data": {
      "text/plain": [
       "array([[0.40547958],\n",
       "       [0.36156657],\n",
       "       [0.49216187],\n",
       "       [0.41899496],\n",
       "       [0.44404364],\n",
       "       [0.43799342],\n",
       "       [0.43844301],\n",
       "       [0.36442323],\n",
       "       [0.3810691 ],\n",
       "       [0.36916867],\n",
       "       [0.34616907],\n",
       "       [0.36199329],\n",
       "       [0.36832442],\n",
       "       [0.36512821],\n",
       "       [0.29008196]])"
      ]
     },
     "execution_count": 31,
     "metadata": {},
     "output_type": "execute_result"
    }
   ],
   "source": [
    "#services/all occupations\n",
    "a=list(eoMA['25'])\n",
    "x10=[]\n",
    "for i in range(0,len(a),10):\n",
    "    tmp=a[i+1]/(a[i]+a[i+1]+a[i+2]+a[i+3]+a[i+4]+a[i+5]+a[i+6]+a[i+7]+a[i+8]+a[i+9])\n",
    "    x10.append(tmp)\n",
    "x10=np.array(x10).reshape(len(x10),1)\n",
    "x10"
   ]
  },
  {
   "cell_type": "code",
   "execution_count": 32,
   "metadata": {},
   "outputs": [
    {
     "data": {
      "text/plain": [
       "array([[0.02439382],\n",
       "       [0.00224248],\n",
       "       [0.00604261],\n",
       "       [0.00227906],\n",
       "       [0.0074029 ],\n",
       "       [0.01073191],\n",
       "       [0.02063522],\n",
       "       [0.01315575],\n",
       "       [0.01707709],\n",
       "       [0.01022052],\n",
       "       [0.03014611],\n",
       "       [0.01581454],\n",
       "       [0.01269058],\n",
       "       [0.0160928 ],\n",
       "       [0.02150297]])"
      ]
     },
     "execution_count": 32,
     "metadata": {},
     "output_type": "execute_result"
    }
   ],
   "source": [
    "#tech/all occupations\n",
    "a=list(eoMA['25'])\n",
    "x11=[]\n",
    "for i in range(0,len(a),10):\n",
    "    tmp=a[i+8]/(a[i]+a[i+1]+a[i+2]+a[i+3]+a[i+4]+a[i+5]+a[i+6]+a[i+7]+a[i+8]+a[i+9])\n",
    "    x11.append(tmp)\n",
    "x11=np.array(x11).reshape(len(x11),1)\n",
    "x11"
   ]
  },
  {
   "cell_type": "code",
   "execution_count": 33,
   "metadata": {},
   "outputs": [
    {
     "data": {
      "text/plain": [
       "-0.05710263863952608"
      ]
     },
     "execution_count": 33,
     "metadata": {},
     "output_type": "execute_result"
    }
   ],
   "source": [
    "y1=y.reshape((len(y),1))\n",
    "data=np.hstack([x1,x2,x4,d,x9,y1,x10,x11])\n",
    "\n",
    "df=pd.DataFrame(data)\n",
    "df.columns=['English','Citizenship','Entry','Labored','Poverty','Income','Service','Tech']\n",
    "df=df.astype('float')\n",
    "\n",
    "df[\"Income\"].corr(df[\"English\"])"
   ]
  },
  {
   "cell_type": "code",
   "execution_count": 34,
   "metadata": {},
   "outputs": [
    {
     "data": {
      "text/plain": [
       "0.6865582276227539"
      ]
     },
     "execution_count": 34,
     "metadata": {},
     "output_type": "execute_result"
    }
   ],
   "source": [
    "df[\"Income\"].corr(df[\"Citizenship\"])"
   ]
  },
  {
   "cell_type": "code",
   "execution_count": 35,
   "metadata": {},
   "outputs": [
    {
     "data": {
      "text/plain": [
       "0.4990063593846584"
      ]
     },
     "execution_count": 35,
     "metadata": {},
     "output_type": "execute_result"
    }
   ],
   "source": [
    "df[\"Income\"].corr(df[\"Entry\"])"
   ]
  },
  {
   "cell_type": "code",
   "execution_count": 36,
   "metadata": {},
   "outputs": [
    {
     "data": {
      "text/plain": [
       "0.45772800136890224"
      ]
     },
     "execution_count": 36,
     "metadata": {},
     "output_type": "execute_result"
    }
   ],
   "source": [
    "df[\"Income\"].corr(df[\"Labored\"])"
   ]
  },
  {
   "cell_type": "code",
   "execution_count": 37,
   "metadata": {},
   "outputs": [
    {
     "data": {
      "text/plain": [
       "0.04438632348363138"
      ]
     },
     "execution_count": 37,
     "metadata": {},
     "output_type": "execute_result"
    }
   ],
   "source": [
    "df[\"Income\"].corr(df[\"Poverty\"])"
   ]
  },
  {
   "cell_type": "code",
   "execution_count": 38,
   "metadata": {},
   "outputs": [
    {
     "data": {
      "text/plain": [
       "-0.678619674893651"
      ]
     },
     "execution_count": 38,
     "metadata": {},
     "output_type": "execute_result"
    }
   ],
   "source": [
    "df[\"Income\"].corr(df[\"Service\"])"
   ]
  },
  {
   "cell_type": "code",
   "execution_count": 39,
   "metadata": {},
   "outputs": [
    {
     "data": {
      "text/plain": [
       "0.5556517893340301"
      ]
     },
     "execution_count": 39,
     "metadata": {},
     "output_type": "execute_result"
    }
   ],
   "source": [
    "df[\"Income\"].corr(df[\"Tech\"])"
   ]
  },
  {
   "cell_type": "code",
   "execution_count": 40,
   "metadata": {},
   "outputs": [
    {
     "data": {
      "text/plain": [
       "array([[0.1333642 , 0.57156087, 0.94142781, 0.40547958, 0.02439382],\n",
       "       [0.1406825 , 0.60008706, 0.96118634, 0.36156657, 0.00224248],\n",
       "       [0.13008262, 0.66038319, 0.96355755, 0.49216187, 0.00604261],\n",
       "       [0.18146648, 0.62171858, 0.95420095, 0.41899496, 0.00227906],\n",
       "       [0.17537625, 0.60681707, 0.93554251, 0.44404364, 0.0074029 ],\n",
       "       [0.16635179, 0.64971798, 0.9280459 , 0.43799342, 0.01073191],\n",
       "       [0.19679536, 0.66879041, 0.92276952, 0.43844301, 0.02063522],\n",
       "       [0.30648351, 0.58406068, 0.93072195, 0.36442323, 0.01315575],\n",
       "       [0.22864403, 0.61797171, 0.94320509, 0.3810691 , 0.01707709],\n",
       "       [0.2994959 , 0.66322518, 0.95217106, 0.36916867, 0.01022052],\n",
       "       [0.33035612, 0.63542503, 0.96015097, 0.34616907, 0.03014611],\n",
       "       [0.32482675, 0.62141645, 0.96111864, 0.36199329, 0.01581454],\n",
       "       [0.25101235, 0.69220958, 0.94802505, 0.36832442, 0.01269058],\n",
       "       [0.29781441, 0.73492063, 0.94852307, 0.36512821, 0.0160928 ],\n",
       "       [0.24701199, 0.81036838, 0.98712206, 0.29008196, 0.02150297]])"
      ]
     },
     "execution_count": 40,
     "metadata": {},
     "output_type": "execute_result"
    }
   ],
   "source": [
    "X=np.hstack([x2,x4,d,x10,x11])\n",
    "X= X.astype(np.float64) \n",
    "X"
   ]
  },
  {
   "cell_type": "code",
   "execution_count": 41,
   "metadata": {},
   "outputs": [
    {
     "name": "stdout",
     "output_type": "stream",
     "text": [
      "                            OLS Regression Results                            \n",
      "==============================================================================\n",
      "Dep. Variable:                      y   R-squared:                       0.846\n",
      "Model:                            OLS   Adj. R-squared:                  0.692\n",
      "Method:                 Least Squares   F-statistic:                     5.484\n",
      "Date:                Mon, 06 Dec 2021   Prob (F-statistic):             0.0426\n",
      "Time:                        16:45:30   Log-Likelihood:                -92.380\n",
      "No. Observations:                  11   AIC:                             196.8\n",
      "Df Residuals:                       5   BIC:                             199.1\n",
      "Df Model:                           5                                         \n",
      "Covariance Type:            nonrobust                                         \n",
      "==============================================================================\n",
      "                 coef    std err          t      P>|t|      [0.025      0.975]\n",
      "------------------------------------------------------------------------------\n",
      "const       2.168e+04    492.899     43.979      0.000    2.04e+04    2.29e+04\n",
      "x1          1507.7509    731.740      2.061      0.094    -373.247    3388.748\n",
      "x2           656.2969    643.641      1.020      0.355    -998.235    2310.829\n",
      "x3           658.3556    645.877      1.019      0.355   -1001.925    2318.636\n",
      "x4           -10.8246    961.137     -0.011      0.991   -2481.507    2459.858\n",
      "x5           491.4594    662.063      0.742      0.491   -1210.428    2193.347\n",
      "==============================================================================\n",
      "Omnibus:                        0.080   Durbin-Watson:                   2.590\n",
      "Prob(Omnibus):                  0.961   Jarque-Bera (JB):                0.307\n",
      "Skew:                          -0.039   Prob(JB):                        0.858\n",
      "Kurtosis:                       2.185   Cond. No.                         4.53\n",
      "==============================================================================\n",
      "\n",
      "Notes:\n",
      "[1] Standard Errors assume that the covariance matrix of the errors is correctly specified.\n"
     ]
    },
    {
     "name": "stderr",
     "output_type": "stream",
     "text": [
      "C:\\Users\\HP\\anaconda3\\lib\\site-packages\\scipy\\stats\\stats.py:1603: UserWarning: kurtosistest only valid for n>=20 ... continuing anyway, n=11\n",
      "  warnings.warn(\"kurtosistest only valid for n>=20 ... continuing \"\n"
     ]
    }
   ],
   "source": [
    "from sklearn import preprocessing\n",
    "min_max_scaler = preprocessing.MinMaxScaler()\n",
    "standard_scaler = preprocessing.StandardScaler()\n",
    "X2 = standard_scaler.fit_transform(X)\n",
    "import statsmodels.api as sm\n",
    "X_intercept = sm.add_constant(X2)\n",
    "from sklearn.model_selection import train_test_split\n",
    "X_train, X_test, y_train, y_test = train_test_split(\n",
    "        X_intercept,\n",
    "        y,\n",
    "        test_size=4,\n",
    "        random_state=0\n",
    "    )\n",
    "\n",
    "model = sm.OLS(y_train, X_train)\n",
    "results = model.fit()\n",
    "print(results.summary())"
   ]
  },
  {
   "cell_type": "code",
   "execution_count": 42,
   "metadata": {},
   "outputs": [
    {
     "name": "stdout",
     "output_type": "stream",
     "text": [
      "[19008.6402604  20556.40652091 21310.829627   23278.92989805]\n",
      "[19000. 20000. 24000. 20000.]\n",
      "RMSE on testing set =  4573170.360491886\n"
     ]
    }
   ],
   "source": [
    "ypred = results.predict(X_test)\n",
    "from sklearn.metrics import mean_squared_error, confusion_matrix\n",
    "print(ypred)\n",
    "print(y_test)\n",
    "print(\"RMSE on testing set = \", mean_squared_error(y_test, ypred))"
   ]
  },
  {
   "cell_type": "code",
   "execution_count": 43,
   "metadata": {},
   "outputs": [
    {
     "data": {
      "image/png": "[encoded data removed]",
      "text/plain": [
       "<Figure size 864x360 with 2 Axes>"
      ]
     },
     "metadata": {
      "needs_background": "light"
     },
     "output_type": "display_data"
    }
   ],
   "source": [
    "import matplotlib.pyplot as plt\n",
    "%matplotlib inline\n",
    "from sklearn.metrics import r2_score\n",
    "\n",
    "fig, (ax1, ax2) = plt.subplots(1,2,sharey = 'row', figsize=(12, 5))\n",
    "y_oos_predict = results.predict(X_test)\n",
    "r2_test = r2_score(y_test, y_oos_predict)\n",
    "ax1.scatter(y_test, y_oos_predict, s = 8)\n",
    "ax1.set_xlabel('True Earnings')\n",
    "ax1.set_ylabel('Predicted Earnings')\n",
    "ax1.plot([0,30000], [0,30000], 'r-')\n",
    "ax1.axis('equal')\n",
    "ax1.set_ylim([0, 30000])\n",
    "ax1.set_xlim([0, 30000])\n",
    "ax1.set_title(f'Out of Sample Prediction, $R^2$ is {r2_test:0.3f}')\n",
    "#\n",
    "y_is_predict = results.predict(X_train)\n",
    "ax2.scatter(y_train, y_is_predict, s = 8)\n",
    "r2_train = r2_score(y_train, y_is_predict)\n",
    "ax2.set_xlabel('True Earnings')\n",
    "ax2.plot([0,30000],[0,30000],'r-')\n",
    "ax2.axis('equal')\n",
    "ax2.set_ylim([0,30000])\n",
    "ax2.set_xlim([0,30000])\n",
    "ax2.set_title(f'In Sample Prediction, $R^2$ is {r2_train:0.3f}');"
   ]
  },
  {
   "cell_type": "markdown",
   "metadata": {},
   "source": [
    "Conclusion: it seems that other than year of entry, citizenship and labored rate, personal income can be positively correlated with the proportion of the medical technology industry, and negatively correlated with the proportion of the service industry, and services can be more effective as it is the industry most engaged in by the Brazilian community."
   ]
  },
  {
   "cell_type": "markdown",
   "metadata": {},
   "source": [
    "# Trends Predictions\n",
    "\n",
    "1. Predict next 3 years Personal Earnings"
   ]
  },
  {
   "cell_type": "code",
   "execution_count": 128,
   "metadata": {},
   "outputs": [],
   "source": [
    "#predict income\n",
    "x=np.array([2005,2006,2007,2008,2009,2010,2011,2012,2013,2014,2015,2016,2017,2018,2019,2020,2021,2022]).reshape((18,1))"
   ]
  },
  {
   "cell_type": "code",
   "execution_count": 149,
   "metadata": {},
   "outputs": [],
   "source": [
    "from sklearn import preprocessing\n",
    "min_max_scaler = preprocessing.MinMaxScaler()\n",
    "standard_scaler = preprocessing.StandardScaler()\n",
    "x1 = standard_scaler.fit_transform(x)\n",
    "x_intercept = sm.add_constant(x1)\n",
    "xtrain=x_intercept[:15]\n",
    "xtest=x_intercept[15:]"
   ]
  },
  {
   "cell_type": "code",
   "execution_count": 171,
   "metadata": {},
   "outputs": [
    {
     "name": "stdout",
     "output_type": "stream",
     "text": [
      "                            OLS Regression Results                            \n",
      "==============================================================================\n",
      "Dep. Variable:                      y   R-squared:                       0.710\n",
      "Model:                            OLS   Adj. R-squared:                  0.688\n",
      "Method:                 Least Squares   F-statistic:                     31.85\n",
      "Date:                Mon, 15 Nov 2021   Prob (F-statistic):           8.02e-05\n",
      "Time:                        11:56:47   Log-Likelihood:                -129.91\n",
      "No. Observations:                  15   AIC:                             263.8\n",
      "Df Residuals:                      13   BIC:                             265.2\n",
      "Df Model:                           1                                         \n",
      "Covariance Type:            nonrobust                                         \n",
      "==============================================================================\n",
      "                 coef    std err          t      P>|t|      [0.025      0.975]\n",
      "------------------------------------------------------------------------------\n",
      "const       2.236e+04    410.114     54.519      0.000    2.15e+04    2.32e+04\n",
      "x1          2625.5631    465.231      5.644      0.000    1620.492    3630.634\n",
      "==============================================================================\n",
      "Omnibus:                        1.008   Durbin-Watson:                   2.232\n",
      "Prob(Omnibus):                  0.604   Jarque-Bera (JB):                0.864\n",
      "Skew:                          -0.497   Prob(JB):                        0.649\n",
      "Kurtosis:                       2.372   Cond. No.                         1.44\n",
      "==============================================================================\n",
      "\n",
      "Notes:\n",
      "[1] Standard Errors assume that the covariance matrix of the errors is correctly specified.\n"
     ]
    },
    {
     "name": "stderr",
     "output_type": "stream",
     "text": [
      "C:\\Users\\HP\\anaconda3\\lib\\site-packages\\scipy\\stats\\stats.py:1603: UserWarning: kurtosistest only valid for n>=20 ... continuing anyway, n=15\n",
      "  warnings.warn(\"kurtosistest only valid for n>=20 ... continuing \"\n"
     ]
    },
    {
     "data": {
      "text/plain": [
       "array([25648.57142857, 26154.64285714, 26660.71428571])"
      ]
     },
     "execution_count": 171,
     "metadata": {},
     "output_type": "execute_result"
    }
   ],
   "source": [
    "ytrain=y\n",
    "model = sm.OLS(ytrain, xtrain)\n",
    "results = model.fit()\n",
    "print(results.summary())\n",
    "\n",
    "ypred=results.predict(xtest)\n",
    "ypred"
   ]
  },
  {
   "cell_type": "code",
   "execution_count": 172,
   "metadata": {},
   "outputs": [
    {
     "data": {
      "image/png": "[encoded data removed]",
      "text/plain": [
       "<Figure size 720x360 with 1 Axes>"
      ]
     },
     "metadata": {
      "needs_background": "light"
     },
     "output_type": "display_data"
    }
   ],
   "source": [
    "yall=np.hstack([ytrain,ypred])\n",
    "\n",
    "plt.figure(figsize=(10,5))\n",
    "plt.xlabel('Year')\n",
    "plt.ylabel('Brazilian Median Personal Earnings in MA')\n",
    "plt.title(\"Brazilian Median Personal Earnings Predictions\")\n",
    "plt.plot(np.arange(2005,2020).astype(dtype=np.str),yall[:15],marker='o')\n",
    "plt.plot(np.arange(2020,2023).astype(dtype=np.str),yall[15:],marker='o',linestyle='dashed')\n",
    "plt.savefig(\"Brazilian Median Personal Earnings Predictions--MA.png\")"
   ]
  },
  {
   "cell_type": "markdown",
   "metadata": {},
   "source": [
    "2. Predict Labor Rate"
   ]
  },
  {
   "cell_type": "code",
   "execution_count": 163,
   "metadata": {},
   "outputs": [],
   "source": [
    "ytrain=d\n",
    "ytrain=np.array(ytrain,dtype='float')"
   ]
  },
  {
   "cell_type": "code",
   "execution_count": 164,
   "metadata": {},
   "outputs": [
    {
     "name": "stdout",
     "output_type": "stream",
     "text": [
      "                            OLS Regression Results                            \n",
      "==============================================================================\n",
      "Dep. Variable:                      y   R-squared:                       0.105\n",
      "Model:                            OLS   Adj. R-squared:                  0.036\n",
      "Method:                 Least Squares   F-statistic:                     1.522\n",
      "Date:                Mon, 15 Nov 2021   Prob (F-statistic):              0.239\n",
      "Time:                        11:54:52   Log-Likelihood:                 41.543\n",
      "No. Observations:                  15   AIC:                            -79.09\n",
      "Df Residuals:                      13   BIC:                            -77.67\n",
      "Df Model:                           1                                         \n",
      "Covariance Type:            nonrobust                                         \n",
      "==============================================================================\n",
      "                 coef    std err          t      P>|t|      [0.025      0.975]\n",
      "------------------------------------------------------------------------------\n",
      "const          0.9510      0.004    213.530      0.000       0.941       0.961\n",
      "x1             0.0062      0.005      1.234      0.239      -0.005       0.017\n",
      "==============================================================================\n",
      "Omnibus:                        0.419   Durbin-Watson:                   0.826\n",
      "Prob(Omnibus):                  0.811   Jarque-Bera (JB):                0.530\n",
      "Skew:                           0.227   Prob(JB):                        0.767\n",
      "Kurtosis:                       2.199   Cond. No.                         1.44\n",
      "==============================================================================\n",
      "\n",
      "Notes:\n",
      "[1] Standard Errors assume that the covariance matrix of the errors is correctly specified.\n"
     ]
    },
    {
     "name": "stderr",
     "output_type": "stream",
     "text": [
      "C:\\Users\\HP\\anaconda3\\lib\\site-packages\\scipy\\stats\\stats.py:1603: UserWarning: kurtosistest only valid for n>=20 ... continuing anyway, n=15\n",
      "  warnings.warn(\"kurtosistest only valid for n>=20 ... continuing \"\n"
     ]
    },
    {
     "data": {
      "text/plain": [
       "array([0.95879599, 0.95999741, 0.96119884])"
      ]
     },
     "execution_count": 164,
     "metadata": {},
     "output_type": "execute_result"
    }
   ],
   "source": [
    "model = sm.OLS(ytrain, xtrain)\n",
    "results = model.fit()\n",
    "print(results.summary())\n",
    "\n",
    "ypred=results.predict(xtest)\n",
    "ypred"
   ]
  },
  {
   "cell_type": "code",
   "execution_count": 170,
   "metadata": {},
   "outputs": [
    {
     "data": {
      "image/png": "[encoded data removed]",
      "text/plain": [
       "<Figure size 720x360 with 1 Axes>"
      ]
     },
     "metadata": {
      "needs_background": "light"
     },
     "output_type": "display_data"
    }
   ],
   "source": [
    "ytrain=ytrain.reshape(len(ytrain))\n",
    "yall=np.hstack([ytrain,ypred])\n",
    "df=pd.DataFrame()\n",
    "df['year']=x.reshape(len(x))\n",
    "df['income']=yall\n",
    "\n",
    "df['year']=df['year'].astype('int64')\n",
    "\n",
    "plt.figure(figsize=(10,5))\n",
    "plt.xlabel('Year')\n",
    "plt.ylabel('Labored Rate in MA')\n",
    "plt.title(\"Brazilian Labored Rate Predictions--MA\")\n",
    "plt.plot(np.arange(2005,2020).astype(dtype=np.str),yall[:15],marker='o')\n",
    "plt.plot(np.arange(2020,2023).astype(dtype=np.str),yall[15:],marker='o',linestyle='dashed')\n",
    "plt.savefig(\"Brazilian Labored Rate Predictions--MA.png\")"
   ]
  },
  {
   "cell_type": "code",
   "execution_count": null,
   "metadata": {},
   "outputs": [],
   "source": []
  }
 ],
 "metadata": {
  "kernelspec": {
   "display_name": "Python 3",
   "language": "python",
   "name": "python3"
  },
  "language_info": {
   "codemirror_mode": {
    "name": "ipython",
    "version": 3
   },
   "file_extension": ".py",
   "mimetype": "text/x-python",
   "name": "python",
   "nbconvert_exporter": "python",
   "pygments_lexer": "ipython3",
   "version": "3.8.5"
  }
 },
 "nbformat": 4,
 "nbformat_minor": 4
}
